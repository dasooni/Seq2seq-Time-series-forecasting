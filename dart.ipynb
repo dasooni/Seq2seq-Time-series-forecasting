{
 "cells": [
  {
   "cell_type": "code",
   "execution_count": 1,
   "metadata": {},
   "outputs": [
    {
     "name": "stdout",
     "output_type": "stream",
     "text": [
      "Missing values in Index(['spotPrice'], dtype='object') : 6\n",
      "Missing values in Index(['ConsumptionSE1GWh', 'ConsumptionSE2GWh', 'ConsumptionSE3GWh',\n",
      "       'ConsumptionSE4GWh'],\n",
      "      dtype='object') : 60\n",
      "Missing values in Index(['nucFI(MWh)', 'nucDE(MWh)'], dtype='object') : 944\n",
      "Missing values in Index(['wind(Mwh)', 'solar(Mwh)', 'trm(Mwh)', 'biomass(Mwh)', 'coal(MWh)',\n",
      "       'gas(MWh)', 'oil(MWh)', 'lignite(MWh)', 'nuc(MWh)', 'pump(MWh)',\n",
      "       'other(MWh)', 'waste(MWh)'],\n",
      "      dtype='object') : 1337\n",
      "Missing values in Index(['waterSE1(MWh)', 'windSE1(MWh)', 'trmSE1MWh'], dtype='object') : 151\n",
      "Missing values in Index(['waterSE2(MWh)', 'windSE2(MWh)', 'solSE2MWh', 'trmSE2MWh', 'OthSE2MWh'], dtype='object') : 345\n",
      "Missing values in Index(['waterSE3(MWh)', 'windSE3(MWh)', 'nucSE3(MWh)', 'solSE3MWh',\n",
      "       'trmSE3MWh', 'OthSE3MWh'],\n",
      "      dtype='object') : 388\n",
      "Missing values in Index(['waterSE4(MWh)', 'windSE4(MWh)', 'solSE4MWh', 'trmSE4MWh', 'OthSE4MWh'], dtype='object') : 356\n",
      "Missing values in Index(['HydroRes(GWh_week)', 'HydroResSE3(GWh_week)'], dtype='object') : 384\n",
      "Missing values in Index(['Temperature(day)', 'PrecipitationEnergySE(day)'], dtype='object') : 72\n"
     ]
    }
   ],
   "source": [
    "import datastore\n",
    "\n",
    "import pandas as pd\n",
    "import matplotlib.pyplot as plt\n",
    "\n",
    "spot = datastore.getSpotPrice()\n",
    "\n",
    "cons_gwh = datastore.getConsumptionGWh()\n",
    "\n",
    "nuclear_finland_germany_mwh = datastore.getHourlyProduction_nuclear_EU()\n",
    "germany_all = datastore.getHourlyProduction_Germany_all()\n",
    "\n",
    "production_se1_mwh = datastore.getAllSE1ProductionMWh() \n",
    "production_se2_mwh = datastore.getAllSE2ProductionMWh()\n",
    "production_se3_mwh = datastore.getAllSE3ProductionMWh()\n",
    "production_se4_mwh = datastore.getAllSE4ProductionMWh()\n",
    "\n",
    "hydroReservoirs = datastore.getWeeklyHydroReservs()\n",
    "\n",
    "temp_pen = datastore.getDailyWeather()\n",
    "\n",
    "# stationCap = datastore.getStationCap_forecast()\n",
    "# transTo = datastore.getTransmissionCapTo_forecast()\n",
    "# transFrom = datastore.getTransmissionCapFrom_forecast()\n",
    "\n",
    "# productionCap = datastore.getProductionCap_forecast()"
   ]
  },
  {
   "cell_type": "code",
   "execution_count": 40,
   "metadata": {},
   "outputs": [],
   "source": [
    "import calendar_features as cf\n",
    "\n",
    "dataset = pd.concat([spot, cons_gwh, production_se1_mwh, production_se2_mwh, \n",
    "                                    production_se3_mwh, production_se4_mwh, temp_pen, hydroReservoirs], axis=1)\n",
    "\n",
    "daylight_features = cf.daylight_extractor(dataset)\n",
    "holiday_features = cf.get_holidays(dataset)\n",
    "calendar_features = cf.calendar_transformer(dataset).get([\"year\", \"month\", \"day_of_week\", \"weekend\", \"hour\"])\n",
    "\n",
    "future_covariates = pd.concat([daylight_features, holiday_features, calendar_features], axis=1)\n",
    "\n",
    "dataset.interpolate(method = 'linear', limit_direction = 'forward', inplace=True, axis=0)\n",
    "\n",
    "# dataset = cf.calendar_transformer(dataset)\n",
    "\n",
    "# dataset = pd.concat([dataset, daylight_features, holiday_features], axis=1)"
   ]
  },
  {
   "cell_type": "code",
   "execution_count": 41,
   "metadata": {},
   "outputs": [],
   "source": [
    "from darts import TimeSeries, concatenate\n",
    "from darts.dataprocessing.transformers import Scaler\n",
    "\n",
    "# Split applies on the whole dataset\n",
    "train_split = int(len(dataset) * 0.7)\n",
    "validation_split = int(len(dataset) * 0.85)\n",
    "test_split = len(dataset)\n",
    "\n",
    "features = dataset.drop('spotPrice', axis=1)\n",
    "target = dataset['spotPrice']\n",
    " \n",
    "past_covariates = TimeSeries.from_dataframe(features ,freq='h')\n",
    "future_covariates = TimeSeries.from_dataframe(future_covariates, freq='h')\n",
    "target = TimeSeries.from_series(target, freq='h')\n",
    "\n",
    "past_scaler, target_scaler, future_scaler = Scaler(), Scaler(), Scaler()\n",
    "\n",
    "past_covariates_scaled = target_scaler.fit_transform(past_covariates)\n",
    "future_covariates_scaled = future_scaler.fit_transform(future_covariates)\n",
    "target_scaled = past_scaler.fit_transform(target)\n",
    "\n",
    "\n",
    "past_covariates_train, past_covariates_val, past_covariates_test = past_covariates_scaled[:train_split], past_covariates_scaled[train_split:validation_split], past_covariates_scaled[validation_split:test_split]\n",
    "target_train, target_val, target_test = target_scaled[:train_split], target_scaled[train_split:validation_split], target_scaled[validation_split:test_split]\n",
    "future_covirates_train, future_covirates_val, future_covirates_test = future_covariates_scaled[:train_split], future_covariates_scaled[train_split:validation_split], future_covariates_scaled[validation_split:test_split]\n",
    "\n",
    "\n",
    "past_covariates, target, future_covirates = concatenate([past_covariates_train, past_covariates_val]), concatenate([target_train, target_val]), concatenate([future_covirates_train, future_covirates_val])"
   ]
  },
  {
   "cell_type": "code",
   "execution_count": 43,
   "metadata": {},
   "outputs": [
    {
     "name": "stderr",
     "output_type": "stream",
     "text": [
      "GPU available: True (cuda), used: True\n",
      "TPU available: False, using: 0 TPU cores\n",
      "IPU available: False, using: 0 IPUs\n",
      "HPU available: False, using: 0 HPUs\n",
      "You are using a CUDA device ('NVIDIA GeForce RTX 3070') that has Tensor Cores. To properly utilize them, you should set `torch.set_float32_matmul_precision('medium' | 'high')` which will trade-off precision for performance. For more details, read https://pytorch.org/docs/stable/generated/torch.set_float32_matmul_precision.html#torch.set_float32_matmul_precision\n",
      "LOCAL_RANK: 0 - CUDA_VISIBLE_DEVICES: [0]\n",
      "\n",
      "  | Name          | Type             | Params\n",
      "---------------------------------------------------\n",
      "0 | criterion     | MSELoss          | 0     \n",
      "1 | train_metrics | MetricCollection | 0     \n",
      "2 | val_metrics   | MetricCollection | 0     \n",
      "3 | rnn           | LSTM             | 5.5 K \n",
      "4 | fc            | Sequential       | 312   \n",
      "---------------------------------------------------\n",
      "5.8 K     Trainable params\n",
      "0         Non-trainable params\n",
      "5.8 K     Total params\n",
      "0.023     Total estimated model params size (MB)\n"
     ]
    },
    {
     "data": {
      "application/vnd.jupyter.widget-view+json": {
       "model_id": "dc188d8d870044458906c8d64d5a3122",
       "version_major": 2,
       "version_minor": 0
      },
      "text/plain": [
       "Sanity Checking: |          | 0/? [00:00<?, ?it/s]"
      ]
     },
     "metadata": {},
     "output_type": "display_data"
    },
    {
     "data": {
      "application/vnd.jupyter.widget-view+json": {
       "model_id": "f9ce393900184b2bb8c680fece088a3a",
       "version_major": 2,
       "version_minor": 0
      },
      "text/plain": [
       "Training: |          | 0/? [00:00<?, ?it/s]"
      ]
     },
     "metadata": {},
     "output_type": "display_data"
    },
    {
     "data": {
      "application/vnd.jupyter.widget-view+json": {
       "model_id": "9277a15e07204b33b05f74bb0e3c79b0",
       "version_major": 2,
       "version_minor": 0
      },
      "text/plain": [
       "Validation: |          | 0/? [00:00<?, ?it/s]"
      ]
     },
     "metadata": {},
     "output_type": "display_data"
    },
    {
     "data": {
      "application/vnd.jupyter.widget-view+json": {
       "model_id": "c4dcc217bac04237b89004b4b3b71611",
       "version_major": 2,
       "version_minor": 0
      },
      "text/plain": [
       "Validation: |          | 0/? [00:00<?, ?it/s]"
      ]
     },
     "metadata": {},
     "output_type": "display_data"
    },
    {
     "data": {
      "application/vnd.jupyter.widget-view+json": {
       "model_id": "88df1b0d1cea4f0b88a91bc105f2e6c0",
       "version_major": 2,
       "version_minor": 0
      },
      "text/plain": [
       "Validation: |          | 0/? [00:00<?, ?it/s]"
      ]
     },
     "metadata": {},
     "output_type": "display_data"
    },
    {
     "data": {
      "application/vnd.jupyter.widget-view+json": {
       "model_id": "142683f96b4d47cda41ca6564c9c0e64",
       "version_major": 2,
       "version_minor": 0
      },
      "text/plain": [
       "Validation: |          | 0/? [00:00<?, ?it/s]"
      ]
     },
     "metadata": {},
     "output_type": "display_data"
    },
    {
     "data": {
      "application/vnd.jupyter.widget-view+json": {
       "model_id": "96e29e4edc04489eabe703a870db457f",
       "version_major": 2,
       "version_minor": 0
      },
      "text/plain": [
       "Validation: |          | 0/? [00:00<?, ?it/s]"
      ]
     },
     "metadata": {},
     "output_type": "display_data"
    },
    {
     "data": {
      "application/vnd.jupyter.widget-view+json": {
       "model_id": "59607488cd9e4a7684a88a464025014e",
       "version_major": 2,
       "version_minor": 0
      },
      "text/plain": [
       "Validation: |          | 0/? [00:00<?, ?it/s]"
      ]
     },
     "metadata": {},
     "output_type": "display_data"
    },
    {
     "data": {
      "application/vnd.jupyter.widget-view+json": {
       "model_id": "cd160753d4624d06ab6122ca1675a181",
       "version_major": 2,
       "version_minor": 0
      },
      "text/plain": [
       "Validation: |          | 0/? [00:00<?, ?it/s]"
      ]
     },
     "metadata": {},
     "output_type": "display_data"
    },
    {
     "data": {
      "application/vnd.jupyter.widget-view+json": {
       "model_id": "018bcbb53ae4493f8b0b38fdf28747b7",
       "version_major": 2,
       "version_minor": 0
      },
      "text/plain": [
       "Validation: |          | 0/? [00:00<?, ?it/s]"
      ]
     },
     "metadata": {},
     "output_type": "display_data"
    },
    {
     "data": {
      "application/vnd.jupyter.widget-view+json": {
       "model_id": "6e719a19319f45e7917b4ae4518bd454",
       "version_major": 2,
       "version_minor": 0
      },
      "text/plain": [
       "Validation: |          | 0/? [00:00<?, ?it/s]"
      ]
     },
     "metadata": {},
     "output_type": "display_data"
    },
    {
     "data": {
      "application/vnd.jupyter.widget-view+json": {
       "model_id": "2d00208e79e04aa9ad3cf08e328b1fec",
       "version_major": 2,
       "version_minor": 0
      },
      "text/plain": [
       "Validation: |          | 0/? [00:00<?, ?it/s]"
      ]
     },
     "metadata": {},
     "output_type": "display_data"
    },
    {
     "data": {
      "application/vnd.jupyter.widget-view+json": {
       "model_id": "5ab2d1956b644739ad14a871af2119c9",
       "version_major": 2,
       "version_minor": 0
      },
      "text/plain": [
       "Validation: |          | 0/? [00:00<?, ?it/s]"
      ]
     },
     "metadata": {},
     "output_type": "display_data"
    },
    {
     "data": {
      "application/vnd.jupyter.widget-view+json": {
       "model_id": "4232d8db94774b7e89e4c4cc57bfc53c",
       "version_major": 2,
       "version_minor": 0
      },
      "text/plain": [
       "Validation: |          | 0/? [00:00<?, ?it/s]"
      ]
     },
     "metadata": {},
     "output_type": "display_data"
    },
    {
     "data": {
      "application/vnd.jupyter.widget-view+json": {
       "model_id": "29e7f8ad34ae42edbb98df9acc447adf",
       "version_major": 2,
       "version_minor": 0
      },
      "text/plain": [
       "Validation: |          | 0/? [00:00<?, ?it/s]"
      ]
     },
     "metadata": {},
     "output_type": "display_data"
    },
    {
     "data": {
      "application/vnd.jupyter.widget-view+json": {
       "model_id": "7d92a98001024d439c86a3ac3b0caa00",
       "version_major": 2,
       "version_minor": 0
      },
      "text/plain": [
       "Validation: |          | 0/? [00:00<?, ?it/s]"
      ]
     },
     "metadata": {},
     "output_type": "display_data"
    },
    {
     "data": {
      "application/vnd.jupyter.widget-view+json": {
       "model_id": "1817cabb621842eda53a2f6e1b373a2c",
       "version_major": 2,
       "version_minor": 0
      },
      "text/plain": [
       "Validation: |          | 0/? [00:00<?, ?it/s]"
      ]
     },
     "metadata": {},
     "output_type": "display_data"
    },
    {
     "data": {
      "application/vnd.jupyter.widget-view+json": {
       "model_id": "427c7ed74b6544ccb5ed91d11eeaaa9d",
       "version_major": 2,
       "version_minor": 0
      },
      "text/plain": [
       "Validation: |          | 0/? [00:00<?, ?it/s]"
      ]
     },
     "metadata": {},
     "output_type": "display_data"
    },
    {
     "data": {
      "application/vnd.jupyter.widget-view+json": {
       "model_id": "5abad070e3594fd3a1d73e36746f4b5a",
       "version_major": 2,
       "version_minor": 0
      },
      "text/plain": [
       "Validation: |          | 0/? [00:00<?, ?it/s]"
      ]
     },
     "metadata": {},
     "output_type": "display_data"
    },
    {
     "data": {
      "application/vnd.jupyter.widget-view+json": {
       "model_id": "662390ee78534237bc7f319e69283df7",
       "version_major": 2,
       "version_minor": 0
      },
      "text/plain": [
       "Validation: |          | 0/? [00:00<?, ?it/s]"
      ]
     },
     "metadata": {},
     "output_type": "display_data"
    },
    {
     "data": {
      "application/vnd.jupyter.widget-view+json": {
       "model_id": "b3884beea9744285a7b0fbb61f77f6ed",
       "version_major": 2,
       "version_minor": 0
      },
      "text/plain": [
       "Validation: |          | 0/? [00:00<?, ?it/s]"
      ]
     },
     "metadata": {},
     "output_type": "display_data"
    },
    {
     "data": {
      "application/vnd.jupyter.widget-view+json": {
       "model_id": "aee50fa5f32b47ab8d89f468e39df555",
       "version_major": 2,
       "version_minor": 0
      },
      "text/plain": [
       "Validation: |          | 0/? [00:00<?, ?it/s]"
      ]
     },
     "metadata": {},
     "output_type": "display_data"
    },
    {
     "data": {
      "application/vnd.jupyter.widget-view+json": {
       "model_id": "e0cbfc9c52f84bd28fc16439a3fb3cc5",
       "version_major": 2,
       "version_minor": 0
      },
      "text/plain": [
       "Validation: |          | 0/? [00:00<?, ?it/s]"
      ]
     },
     "metadata": {},
     "output_type": "display_data"
    },
    {
     "data": {
      "application/vnd.jupyter.widget-view+json": {
       "model_id": "b7c72220b37f416f9b9011afa0094ae7",
       "version_major": 2,
       "version_minor": 0
      },
      "text/plain": [
       "Validation: |          | 0/? [00:00<?, ?it/s]"
      ]
     },
     "metadata": {},
     "output_type": "display_data"
    },
    {
     "data": {
      "application/vnd.jupyter.widget-view+json": {
       "model_id": "4f511124d5b44b2691e2fb425e06a847",
       "version_major": 2,
       "version_minor": 0
      },
      "text/plain": [
       "Validation: |          | 0/? [00:00<?, ?it/s]"
      ]
     },
     "metadata": {},
     "output_type": "display_data"
    },
    {
     "data": {
      "application/vnd.jupyter.widget-view+json": {
       "model_id": "78a62257979c48e6a6de78f1c096900b",
       "version_major": 2,
       "version_minor": 0
      },
      "text/plain": [
       "Validation: |          | 0/? [00:00<?, ?it/s]"
      ]
     },
     "metadata": {},
     "output_type": "display_data"
    },
    {
     "data": {
      "application/vnd.jupyter.widget-view+json": {
       "model_id": "f20e522ad9cc46a0baa973a2eb7efe3c",
       "version_major": 2,
       "version_minor": 0
      },
      "text/plain": [
       "Validation: |          | 0/? [00:00<?, ?it/s]"
      ]
     },
     "metadata": {},
     "output_type": "display_data"
    },
    {
     "data": {
      "application/vnd.jupyter.widget-view+json": {
       "model_id": "dac84b4886ff4c8aa9b9227946b6faae",
       "version_major": 2,
       "version_minor": 0
      },
      "text/plain": [
       "Validation: |          | 0/? [00:00<?, ?it/s]"
      ]
     },
     "metadata": {},
     "output_type": "display_data"
    },
    {
     "data": {
      "application/vnd.jupyter.widget-view+json": {
       "model_id": "67173e161db2498b83cfb78ddc70d8fa",
       "version_major": 2,
       "version_minor": 0
      },
      "text/plain": [
       "Validation: |          | 0/? [00:00<?, ?it/s]"
      ]
     },
     "metadata": {},
     "output_type": "display_data"
    },
    {
     "data": {
      "application/vnd.jupyter.widget-view+json": {
       "model_id": "e77efd8b08694126b759aa2fd42aadb0",
       "version_major": 2,
       "version_minor": 0
      },
      "text/plain": [
       "Validation: |          | 0/? [00:00<?, ?it/s]"
      ]
     },
     "metadata": {},
     "output_type": "display_data"
    },
    {
     "data": {
      "application/vnd.jupyter.widget-view+json": {
       "model_id": "feb434abfd164f7287c2b600b46939e3",
       "version_major": 2,
       "version_minor": 0
      },
      "text/plain": [
       "Validation: |          | 0/? [00:00<?, ?it/s]"
      ]
     },
     "metadata": {},
     "output_type": "display_data"
    },
    {
     "data": {
      "application/vnd.jupyter.widget-view+json": {
       "model_id": "2c410ded47274b8591cc25515ce41960",
       "version_major": 2,
       "version_minor": 0
      },
      "text/plain": [
       "Validation: |          | 0/? [00:00<?, ?it/s]"
      ]
     },
     "metadata": {},
     "output_type": "display_data"
    },
    {
     "data": {
      "application/vnd.jupyter.widget-view+json": {
       "model_id": "8175d41d52c54df2b6f660d8c360d8a5",
       "version_major": 2,
       "version_minor": 0
      },
      "text/plain": [
       "Validation: |          | 0/? [00:00<?, ?it/s]"
      ]
     },
     "metadata": {},
     "output_type": "display_data"
    },
    {
     "data": {
      "application/vnd.jupyter.widget-view+json": {
       "model_id": "6b32eba5b6ea4a7187b3e98a73d96f77",
       "version_major": 2,
       "version_minor": 0
      },
      "text/plain": [
       "Validation: |          | 0/? [00:00<?, ?it/s]"
      ]
     },
     "metadata": {},
     "output_type": "display_data"
    },
    {
     "data": {
      "application/vnd.jupyter.widget-view+json": {
       "model_id": "c1678fadaf3c4984a90b615b5a8b6e18",
       "version_major": 2,
       "version_minor": 0
      },
      "text/plain": [
       "Validation: |          | 0/? [00:00<?, ?it/s]"
      ]
     },
     "metadata": {},
     "output_type": "display_data"
    },
    {
     "data": {
      "application/vnd.jupyter.widget-view+json": {
       "model_id": "7539205719824981ac860a18449b4e63",
       "version_major": 2,
       "version_minor": 0
      },
      "text/plain": [
       "Validation: |          | 0/? [00:00<?, ?it/s]"
      ]
     },
     "metadata": {},
     "output_type": "display_data"
    },
    {
     "data": {
      "application/vnd.jupyter.widget-view+json": {
       "model_id": "593cce94880a4ab1a11d948f599797d6",
       "version_major": 2,
       "version_minor": 0
      },
      "text/plain": [
       "Validation: |          | 0/? [00:00<?, ?it/s]"
      ]
     },
     "metadata": {},
     "output_type": "display_data"
    },
    {
     "name": "stderr",
     "output_type": "stream",
     "text": [
      "`Trainer.fit` stopped: `max_epochs=35` reached.\n"
     ]
    },
    {
     "data": {
      "text/plain": [
       "BlockRNNModel(model=LSTM, hidden_dim=25, n_rnn_layers=1, hidden_fc_sizes=None, dropout=0.0, input_chunk_length=24, output_chunk_length=12, random_state=0, n_epochs=35)"
      ]
     },
     "execution_count": 43,
     "metadata": {},
     "output_type": "execute_result"
    }
   ],
   "source": [
    "from darts.models import BlockRNNModel\n",
    "from darts.utils.callbacks import TFMProgressBar\n",
    "\n",
    "\n",
    "model = BlockRNNModel(\n",
    "    model='LSTM',\n",
    "    input_chunk_length=24,\n",
    "    output_chunk_length=12,\n",
    "    random_state=0,\n",
    "    n_epochs=35, \n",
    "    hidden_dim=25\n",
    ")\n",
    "\n",
    "model.fit(\n",
    "    series = [target_train], \n",
    "    val_series = [target_val],\n",
    "    past_covariates = [past_covariates],\n",
    "    val_past_covariates = [past_covariates], \n",
    "    \n",
    ")"
   ]
  },
  {
   "cell_type": "code",
   "execution_count": 69,
   "metadata": {},
   "outputs": [
    {
     "name": "stderr",
     "output_type": "stream",
     "text": [
      "`predict()` was called with `n > output_chunk_length`: using auto-regression to forecast the values after `output_chunk_length` points. The model will access `(n - output_chunk_length)` future values of your `past_covariates` (relative to the first predicted time step). To hide this warning, set `show_warnings=False`.\n",
      "GPU available: True (cuda), used: True\n",
      "TPU available: False, using: 0 TPU cores\n",
      "IPU available: False, using: 0 IPUs\n",
      "HPU available: False, using: 0 HPUs\n",
      "LOCAL_RANK: 0 - CUDA_VISIBLE_DEVICES: [0]\n"
     ]
    },
    {
     "data": {
      "application/vnd.jupyter.widget-view+json": {
       "model_id": "23f44796164d41c1869f3de9e3932c2f",
       "version_major": 2,
       "version_minor": 0
      },
      "text/plain": [
       "Predicting: |          | 0/? [00:00<?, ?it/s]"
      ]
     },
     "metadata": {},
     "output_type": "display_data"
    },
    {
     "data": {
      "text/plain": [
       "<matplotlib.legend.Legend at 0x143143f0520>"
      ]
     },
     "execution_count": 69,
     "metadata": {},
     "output_type": "execute_result"
    },
    {
     "data": {
      "image/png": "[encoded data removed]",
      "text/plain": [
       "<Figure size 1200x500 with 1 Axes>"
      ]
     },
     "metadata": {},
     "output_type": "display_data"
    }
   ],
   "source": [
    "pred = model.predict(n = 124, series=target_train, past_covariates=past_covariates)\n",
    "\n",
    "plt.figure(figsize=(12,5))\n",
    "target_scaled.plot(label='actual')\n",
    "\n",
    "pred.plot(label='forecast')\n",
    "\n",
    "plt.legend()\n"
   ]
  },
  {
   "cell_type": "code",
   "execution_count": 73,
   "metadata": {},
   "outputs": [
    {
     "name": "stderr",
     "output_type": "stream",
     "text": [
      "GPU available: True (cuda), used: True\n",
      "TPU available: False, using: 0 TPU cores\n",
      "IPU available: False, using: 0 IPUs\n",
      "HPU available: False, using: 0 HPUs\n",
      "LOCAL_RANK: 0 - CUDA_VISIBLE_DEVICES: [0]\n"
     ]
    },
    {
     "data": {
      "application/vnd.jupyter.widget-view+json": {
       "model_id": "43d447eb7bc94fc59770ddd8f96575c7",
       "version_major": 2,
       "version_minor": 0
      },
      "text/plain": [
       "Predicting: |          | 0/? [00:00<?, ?it/s]"
      ]
     },
     "metadata": {},
     "output_type": "display_data"
    }
   ],
   "source": [
    "backtest = model.historical_forecasts(\n",
    "    series = target_scaled, \n",
    "    past_covariates = past_covariates, \n",
    "    start = target_val.start_time(),\n",
    "    forecast_horizon = 12,\n",
    "    stride = 12,\n",
    "    last_points_only = False,\n",
    "    retrain = False,\n",
    "    verbose = True\n",
    "    )\n",
    "backtest = concatenate(backtest)"
   ]
  },
  {
   "cell_type": "code",
   "execution_count": 75,
   "metadata": {},
   "outputs": [
    {
     "name": "stdout",
     "output_type": "stream",
     "text": [
      "MAE: 0.05900932335573303\n",
      "MAPE: 28.640295509584412\n"
     ]
    }
   ],
   "source": [
    "from darts.metrics import mape, mae\n",
    "\n",
    "mae = mae(target_scaled, backtest)\n",
    "mape = mape(target_scaled, backtest)\n",
    "\n",
    "print(f\"MAE: {mae}\")\n",
    "print(f\"MAPE: {mape}\")\n",
    "\n",
    "plt.figure(figsize=(12,5))\n",
    "target_scaled.plot(label='actual')\n",
    "backtest.plot(label='forecast')"
   ]
  }
 ],
 "metadata": {
  "kernelspec": {
   "display_name": "Python 3",
   "language": "python",
   "name": "python3"
  },
  "language_info": {
   "codemirror_mode": {
    "name": "ipython",
    "version": 3
   },
   "file_extension": ".py",
   "mimetype": "text/x-python",
   "name": "python",
   "nbconvert_exporter": "python",
   "pygments_lexer": "ipython3",
   "version": "3.10.11"
  }
 },
 "nbformat": 4,
 "nbformat_minor": 2
}
