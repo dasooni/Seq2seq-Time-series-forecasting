{
 "cells": [
  {
   "cell_type": "code",
   "execution_count": 1,
   "metadata": {},
   "outputs": [],
   "source": [
    "import dataStore\n",
    "import pandas as pd\n",
    "\n",
    "spot = dataStore.getSpotPrice().dropna()\n",
    "\n",
    "production = dataStore.GetAllProductionMWh()\n",
    "cons = dataStore.getConsumptionGWh()\n",
    "transCap = dataStore.GetTransmissionCapTo()\n",
    "\n",
    "temp = dataStore.getDailyTemp()"
   ]
  }
 ],
 "metadata": {
  "kernelspec": {
   "display_name": "Python 3",
   "language": "python",
   "name": "python3"
  },
  "language_info": {
   "codemirror_mode": {
    "name": "ipython",
    "version": 3
   },
   "file_extension": ".py",
   "mimetype": "text/x-python",
   "name": "python",
   "nbconvert_exporter": "python",
   "pygments_lexer": "ipython3",
   "version": "3.10.11"
  }
 },
 "nbformat": 4,
 "nbformat_minor": 2
}
