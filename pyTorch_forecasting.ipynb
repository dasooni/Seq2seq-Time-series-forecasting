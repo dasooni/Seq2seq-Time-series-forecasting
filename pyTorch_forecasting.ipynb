{
 "cells": [
  {
   "cell_type": "code",
   "execution_count": 4,
   "metadata": {},
   "outputs": [
    {
     "name": "stdout",
     "output_type": "stream",
     "text": [
      "Missing values in Index(['spotPrice'], dtype='object') : 5\n",
      "Missing values in Index(['ConsumptionSE1GWh', 'ConsumptionSE2GWh', 'ConsumptionSE3GWh',\n",
      "       'ConsumptionSE4GWh', 'ConsumptionALLGWh'],\n",
      "      dtype='object') : 85\n",
      "Missing values in Index(['nucFI(MWh)', 'nucDE(MWh)'], dtype='object') : 797\n",
      "Missing values in Index(['wind(Mwh)', 'solar(Mwh)', 'trm(Mwh)', 'biomass(Mwh)', 'coal(MWh)',\n",
      "       'gas(MWh)', 'oil(MWh)', 'lignite(MWh)', 'nuc(MWh)', 'pump(MWh)',\n",
      "       'other(MWh)', 'waste(MWh)'],\n",
      "      dtype='object') : 1169\n",
      "Missing values in Index(['waterSE1(MWh)', 'windSE1(MWh)', 'solSE1MWh', 'trmSE1MWh', 'OthSE1MWh'], dtype='object') : 383\n",
      "Missing values in Index(['waterSE2(MWh)', 'windSE2(MWh)', 'solSE2MWh', 'trmSE2MWh', 'OthSE2MWh'], dtype='object') : 357\n",
      "Missing values in Index(['waterSE3(MWh)', 'windSE3(MWh)', 'nucSE3(MWh)', 'solSE3MWh',\n",
      "       'trmSE3MWh', 'OthSE3MWh'],\n",
      "      dtype='object') : 399\n",
      "Missing values in Index(['waterSE4(MWh)', 'windSE4(MWh)', 'solSE4MWh', 'trmSE4MWh', 'OthSE4MWh'], dtype='object') : 368\n",
      "Missing values in Index(['ExchangeSweden(GWh)', 'ExchangeSE2>SE3(GWh)', 'ExchangeSE4>SE3(GWh)',\n",
      "       'TurnoverSE3(MWh)'],\n",
      "      dtype='object') : 398\n",
      "Missing values in Index(['HydroRes(GWh_week)', 'HydroResSE3(GWh_week)'], dtype='object') : 432\n",
      "Missing values in Index(['Temperature(day)', 'PrecipitationEnergySE(day)',\n",
      "       'PrecipitationEnergyNO(day)', 'PrecipitationEnergyFI(day)'],\n",
      "      dtype='object') : 120\n",
      "Missing values in Index(['sCapAros', 'sCapBravallaverket', 'sCapForsmarkB1', 'sCapForsmarkB2',\n",
      "       'sCapForsmarkB3', 'sCapFyrisKraftvarmeverk', 'sCapHändeloverket',\n",
      "       'sCapHoljes', 'sCapJadraasHallasen', 'sCapKarskarG4', 'sCapMarviken',\n",
      "       'sCapMalarberget', 'sCapNysater', 'sCapOskarshamn1', 'sCapOskarshamn2',\n",
      "       'sCapOskarshamn3', 'sCapRinghalsB1', 'sCapRinghalsB2', 'sCapRinghalsB3',\n",
      "       'sCapRinghalsB4', 'sCapRyaKVV', 'sCapStenungsund', 'sCapSvartnas',\n",
      "       'sCapTrollhattan', 'sCapTrangslet', 'sCapVartan', 'sCapAlvkarleby',\n",
      "       'sCapAbyverket'],\n",
      "      dtype='object') : 0\n",
      "Missing values in Index(['TDK1SE3', 'TNO1SE3', 'TSE2SE3', 'TF1SE3', 'TSE4SE3'], dtype='object') : 0\n",
      "Missing values in Index(['TSE3DK1', 'TSE3NO1', 'TSE3SE2', 'TSE3F1', 'TSE3SE4'], dtype='object') : 0\n",
      "Missing values in Index(['AvailableImportCap', 'AvailableExportCap', 'AvailableNuclearCap',\n",
      "       'AvailableWindCap', 'AvailableCoalCap', 'AvailableGasCap',\n",
      "       'AvailableHydroCap', 'AvailableOilCap', 'AvailableCapOther'],\n",
      "      dtype='object') : 0\n"
     ]
    }
   ],
   "source": [
    "import datastore\n",
    "\n",
    "import pandas as pd\n",
    "import seaborn as sns\n",
    "import matplotlib.pyplot as plt\n",
    "\n",
    "spot = datastore.getSpotPrice()\n",
    "\n",
    "cons_gwh = datastore.getConsumptionGWh()\n",
    "\n",
    "nuclear_finland_germany_mwh = datastore.getHourlyProduction_nuclear_EU()\n",
    "germany_all = datastore.getHourlyProduction_Germany_all()\n",
    "\n",
    "production_se1_mwh = datastore.getAllSE1ProductionMWh()\n",
    "production_se2_mwh = datastore.getAllSE2ProductionMWh()\n",
    "production_se3_mwh = datastore.getAllSE3ProductionMWh()\n",
    "production_se4_mwh = datastore.getAllSE4ProductionMWh()\n",
    "\n",
    "otherData = datastore.getOtherNordPoolData()\n",
    "\n",
    "hydroReservoirs = datastore.getWeeklyHydroReservs()\n",
    "\n",
    "temp_pen = datastore.getDailyWeather()\n",
    "\n",
    "statonCap = datastore.getStationCap_forecast()\n",
    "transTo = datastore.getTransmissionCapTo_forecast()\n",
    "transFrom = datastore.getTransmissionCapFrom_forecast()\n",
    "\n",
    "productionCap = datastore.getProductionCap_forecast()\n"
   ]
  },
  {
   "cell_type": "code",
   "execution_count": 3,
   "metadata": {},
   "outputs": [],
   "source": [
    "import lightning.pytorch as pl\n",
    "from lightning.pytorch.callbacks import EarlyStopping, LearningRateMonitor\n",
    "from lightning.pytorch.tuner import Tuner\n",
    "from pytorch_forecasting import TimeSeriesDataSet, TemporalFusionTransformer\n",
    "\n",
    "import calendar_features as cf"
   ]
  },
  {
   "cell_type": "code",
   "execution_count": 45,
   "metadata": {},
   "outputs": [],
   "source": [
    "production_consumption = pd.concat([spot, cons_gwh, production_se1_mwh, production_se2_mwh, production_se3_mwh, production_se4_mwh], axis=1)\n",
    "# production_consumption = production_consumption.dropna()\n",
    "\n",
    "production_consumption = production_consumption.interpolate(method='linear', limit_direction='both')\n",
    "production_consumption = cf.calendar_transformer(production_consumption)\n",
    "\n",
    "production_consumption = production_consumption.reset_index()\n",
    "production_consumption[\"index\"] = production_consumption.index\n",
    "\n",
    "# add dummy variable for group_ids, only one called \"SE3\"\n",
    "production_consumption[\"group_ids\"] = \"SE3\""
   ]
  },
  {
   "cell_type": "code",
   "execution_count": 46,
   "metadata": {},
   "outputs": [],
   "source": [
    "max_prediction_length = 24\n",
    "max_encoder_length = 24*7\n",
    "training_cutoff = production_consumption.index.max() - max_prediction_length"
   ]
  },
  {
   "cell_type": "code",
   "execution_count": 47,
   "metadata": {},
   "outputs": [],
   "source": [
    "import torch\n",
    "torch.set_float32_matmul_precision(\"high\")\n",
    "\n",
    "training = TimeSeriesDataSet(\n",
    "    production_consumption[lambda x: x.index <= training_cutoff],\n",
    "    time_idx = \"index\",\n",
    "    target=\"spotPrice\",\n",
    "    group_ids= [\"group_ids\"],\n",
    "    min_encoder_length=max_encoder_length // 2,  # keep encoder length long (as it is in the validation set)\n",
    "    max_encoder_length=max_encoder_length,\n",
    "    min_prediction_length=max_prediction_length,\n",
    "    max_prediction_length=max_prediction_length,\n",
    "    time_varying_known_reals= [\"year\" , \"month\", \"day_of_week\", \"weekend\", \"hour\"],\n",
    "    time_varying_unknown_reals=[\"spotPrice\", \"ConsumptionSE1GWh\", \"ConsumptionSE2GWh\", \"ConsumptionSE3GWh\", \n",
    "                                \"ConsumptionSE4GWh\", \"waterSE1(MWh)\", \"waterSE2(MWh)\", \"waterSE3(MWh)\", \"waterSE4(MWh)\"],\n",
    "    add_relative_time_idx=True,\n",
    "    add_target_scales=True,\n",
    "    add_encoder_length=True,\n",
    ")\n",
    "validation = TimeSeriesDataSet.from_dataset(training, production_consumption, predict=True, stop_randomization=True)"
   ]
  },
  {
   "cell_type": "code",
   "execution_count": 49,
   "metadata": {},
   "outputs": [],
   "source": [
    "batch_size = 128\n",
    "# if you have a strong GPU, feel free to increase the number of workers  \n",
    "train_dataloader = training.to_dataloader(train=True, batch_size=batch_size, num_workers=4)\n",
    "val_dataloader = validation.to_dataloader(train=False, batch_size=batch_size * 10, num_workers=4)"
   ]
  },
  {
   "cell_type": "code",
   "execution_count": 50,
   "metadata": {},
   "outputs": [
    {
     "name": "stderr",
     "output_type": "stream",
     "text": [
      "c:\\Users\\drami\\AppData\\Local\\Programs\\Python\\Python310\\lib\\site-packages\\lightning\\pytorch\\utilities\\parsing.py:199: Attribute 'loss' is an instance of `nn.Module` and is already saved during checkpointing. It is recommended to ignore them using `self.save_hyperparameters(ignore=['loss'])`.\n",
      "c:\\Users\\drami\\AppData\\Local\\Programs\\Python\\Python310\\lib\\site-packages\\lightning\\pytorch\\utilities\\parsing.py:199: Attribute 'logging_metrics' is an instance of `nn.Module` and is already saved during checkpointing. It is recommended to ignore them using `self.save_hyperparameters(ignore=['logging_metrics'])`.\n",
      "GPU available: True (cuda), used: True\n",
      "TPU available: False, using: 0 TPU cores\n",
      "IPU available: False, using: 0 IPUs\n",
      "HPU available: False, using: 0 HPUs\n",
      "You are using a CUDA device ('NVIDIA GeForce RTX 3070') that has Tensor Cores. To properly utilize them, you should set `torch.set_float32_matmul_precision('medium' | 'high')` which will trade-off precision for performance. For more details, read https://pytorch.org/docs/stable/generated/torch.set_float32_matmul_precision.html#torch.set_float32_matmul_precision\n",
      "Missing logger folder: c:\\Users\\drami\\Desktop\\projekt\\lightning_logs\n"
     ]
    },
    {
     "name": "stdout",
     "output_type": "stream",
     "text": [
      "WARNING:tensorflow:From c:\\Users\\drami\\AppData\\Local\\Programs\\Python\\Python310\\lib\\site-packages\\keras\\src\\losses.py:2976: The name tf.losses.sparse_softmax_cross_entropy is deprecated. Please use tf.compat.v1.losses.sparse_softmax_cross_entropy instead.\n",
      "\n"
     ]
    },
    {
     "name": "stderr",
     "output_type": "stream",
     "text": [
      "LOCAL_RANK: 0 - CUDA_VISIBLE_DEVICES: [0]\n",
      "c:\\Users\\drami\\AppData\\Local\\Programs\\Python\\Python310\\lib\\site-packages\\lightning\\pytorch\\trainer\\connectors\\data_connector.py:436: Consider setting `persistent_workers=True` in 'predict_dataloader' to speed up the dataloader worker initialization.\n"
     ]
    },
    {
     "data": {
      "text/plain": [
       "tensor(128.5046, device='cuda:0')"
      ]
     },
     "execution_count": 50,
     "metadata": {},
     "output_type": "execute_result"
    }
   ],
   "source": [
    "from pytorch_forecasting import Baseline, MAE\n",
    "# calculate baseline mean absolute error, i.e. predict next value as the last available value from the history\n",
    "baseline_predictions = Baseline().predict(val_dataloader, return_y=True)\n",
    "MAE()(baseline_predictions.output, baseline_predictions.y)"
   ]
  },
  {
   "cell_type": "code",
   "execution_count": 55,
   "metadata": {},
   "outputs": [
    {
     "name": "stderr",
     "output_type": "stream",
     "text": [
      "Seed set to 42\n",
      "GPU available: True (cuda), used: True\n",
      "TPU available: False, using: 0 TPU cores\n",
      "IPU available: False, using: 0 IPUs\n",
      "HPU available: False, using: 0 HPUs\n"
     ]
    },
    {
     "name": "stdout",
     "output_type": "stream",
     "text": [
      "Number of parameters in network: 13.5k\n"
     ]
    },
    {
     "name": "stderr",
     "output_type": "stream",
     "text": [
      "c:\\Users\\drami\\AppData\\Local\\Programs\\Python\\Python310\\lib\\site-packages\\lightning\\pytorch\\utilities\\parsing.py:199: Attribute 'loss' is an instance of `nn.Module` and is already saved during checkpointing. It is recommended to ignore them using `self.save_hyperparameters(ignore=['loss'])`.\n",
      "c:\\Users\\drami\\AppData\\Local\\Programs\\Python\\Python310\\lib\\site-packages\\lightning\\pytorch\\utilities\\parsing.py:199: Attribute 'logging_metrics' is an instance of `nn.Module` and is already saved during checkpointing. It is recommended to ignore them using `self.save_hyperparameters(ignore=['logging_metrics'])`.\n"
     ]
    }
   ],
   "source": [
    "from pytorch_forecasting.metrics import QuantileLoss\n",
    "\n",
    "# configure network and trainer\n",
    "pl.seed_everything(42)\n",
    "trainer = pl.Trainer(\n",
    "    max_epochs=35,\n",
    "    enable_model_summary=True,\n",
    "    # clipping gradients is a hyperparameter and important to prevent divergance\n",
    "    # of the gradient for recurrent neural networks\n",
    "    gradient_clip_val=0.1\n",
    ")\n",
    "\n",
    "\n",
    "tft = TemporalFusionTransformer.from_dataset(\n",
    "    training,\n",
    "    # not meaningful for finding the learning rate but otherwise very important\n",
    "    learning_rate=0.01,\n",
    "    hidden_size=8,  # most important hyperparameter apart from learning rate\n",
    "    # number of attention heads. Set to up to 4 for large datasets\n",
    "    attention_head_size=1,\n",
    "    dropout=0.1,  # between 0.1 and 0.3 are good values\n",
    "    hidden_continuous_size=8,  # set to <= hidden_size\n",
    "    loss=QuantileLoss(),\n",
    "    optimizer=\"Ranger\"\n",
    "    # reduce learning rate if no improvement in validation loss after x epochs\n",
    "    # reduce_on_plateau_patience=1000,\n",
    ")\n",
    "print(f\"Number of parameters in network: {tft.size()/1e3:.1f}k\")"
   ]
  },
  {
   "cell_type": "code",
   "execution_count": 56,
   "metadata": {},
   "outputs": [
    {
     "name": "stderr",
     "output_type": "stream",
     "text": [
      "LOCAL_RANK: 0 - CUDA_VISIBLE_DEVICES: [0]\n",
      "\n",
      "   | Name                               | Type                            | Params\n",
      "----------------------------------------------------------------------------------------\n",
      "0  | loss                               | QuantileLoss                    | 0     \n",
      "1  | logging_metrics                    | ModuleList                      | 0     \n",
      "2  | input_embeddings                   | MultiEmbedding                  | 0     \n",
      "3  | prescalers                         | ModuleDict                      | 288   \n",
      "4  | static_variable_selection          | VariableSelectionNetwork        | 1.1 K \n",
      "5  | encoder_variable_selection         | VariableSelectionNetwork        | 6.2 K \n",
      "6  | decoder_variable_selection         | VariableSelectionNetwork        | 2.4 K \n",
      "7  | static_context_variable_selection  | GatedResidualNetwork            | 304   \n",
      "8  | static_context_initial_hidden_lstm | GatedResidualNetwork            | 304   \n",
      "9  | static_context_initial_cell_lstm   | GatedResidualNetwork            | 304   \n",
      "10 | static_context_enrichment          | GatedResidualNetwork            | 304   \n",
      "11 | lstm_encoder                       | LSTM                            | 576   \n",
      "12 | lstm_decoder                       | LSTM                            | 576   \n",
      "13 | post_lstm_gate_encoder             | GatedLinearUnit                 | 144   \n",
      "14 | post_lstm_add_norm_encoder         | AddNorm                         | 16    \n",
      "15 | static_enrichment                  | GatedResidualNetwork            | 368   \n",
      "16 | multihead_attn                     | InterpretableMultiHeadAttention | 280   \n",
      "17 | post_attn_gate_norm                | GateAddNorm                     | 160   \n",
      "18 | pos_wise_ff                        | GatedResidualNetwork            | 304   \n",
      "19 | pre_output_gate_norm               | GateAddNorm                     | 160   \n",
      "20 | output_layer                       | Linear                          | 63    \n",
      "----------------------------------------------------------------------------------------\n",
      "13.5 K    Trainable params\n",
      "0         Non-trainable params\n",
      "13.5 K    Total params\n",
      "0.054     Total estimated model params size (MB)\n"
     ]
    },
    {
     "data": {
      "application/vnd.jupyter.widget-view+json": {
       "model_id": "754113b0d78f4faab6eb2d62c2895c80",
       "version_major": 2,
       "version_minor": 0
      },
      "text/plain": [
       "Sanity Checking: |          | 0/? [00:00<?, ?it/s]"
      ]
     },
     "metadata": {},
     "output_type": "display_data"
    },
    {
     "name": "stderr",
     "output_type": "stream",
     "text": [
      "c:\\Users\\drami\\AppData\\Local\\Programs\\Python\\Python310\\lib\\site-packages\\lightning\\pytorch\\trainer\\connectors\\data_connector.py:436: Consider setting `persistent_workers=True` in 'val_dataloader' to speed up the dataloader worker initialization.\n",
      "c:\\Users\\drami\\AppData\\Local\\Programs\\Python\\Python310\\lib\\site-packages\\lightning\\pytorch\\trainer\\connectors\\data_connector.py:436: Consider setting `persistent_workers=True` in 'train_dataloader' to speed up the dataloader worker initialization.\n"
     ]
    },
    {
     "data": {
      "application/vnd.jupyter.widget-view+json": {
       "model_id": "0141bc2166b84e7fbf7bfeefc38c44ae",
       "version_major": 2,
       "version_minor": 0
      },
      "text/plain": [
       "Training: |          | 0/? [00:00<?, ?it/s]"
      ]
     },
     "metadata": {},
     "output_type": "display_data"
    },
    {
     "data": {
      "application/vnd.jupyter.widget-view+json": {
       "model_id": "92c8dcdbc00544438fcba631e2c6cf75",
       "version_major": 2,
       "version_minor": 0
      },
      "text/plain": [
       "Validation: |          | 0/? [00:00<?, ?it/s]"
      ]
     },
     "metadata": {},
     "output_type": "display_data"
    },
    {
     "data": {
      "application/vnd.jupyter.widget-view+json": {
       "model_id": "2db662ceb89e432fae8e0f0e341adfb2",
       "version_major": 2,
       "version_minor": 0
      },
      "text/plain": [
       "Validation: |          | 0/? [00:00<?, ?it/s]"
      ]
     },
     "metadata": {},
     "output_type": "display_data"
    },
    {
     "data": {
      "application/vnd.jupyter.widget-view+json": {
       "model_id": "b26af717f6644af084eb4d3340fc2f3d",
       "version_major": 2,
       "version_minor": 0
      },
      "text/plain": [
       "Validation: |          | 0/? [00:00<?, ?it/s]"
      ]
     },
     "metadata": {},
     "output_type": "display_data"
    },
    {
     "data": {
      "application/vnd.jupyter.widget-view+json": {
       "model_id": "ff4a9e696dc442ebab0acd221cc4a00f",
       "version_major": 2,
       "version_minor": 0
      },
      "text/plain": [
       "Validation: |          | 0/? [00:00<?, ?it/s]"
      ]
     },
     "metadata": {},
     "output_type": "display_data"
    },
    {
     "data": {
      "application/vnd.jupyter.widget-view+json": {
       "model_id": "b7f6b12086fa41f5be58c9129a6809f0",
       "version_major": 2,
       "version_minor": 0
      },
      "text/plain": [
       "Validation: |          | 0/? [00:00<?, ?it/s]"
      ]
     },
     "metadata": {},
     "output_type": "display_data"
    },
    {
     "data": {
      "application/vnd.jupyter.widget-view+json": {
       "model_id": "3aec92c9367c433e832c24e736e81cc2",
       "version_major": 2,
       "version_minor": 0
      },
      "text/plain": [
       "Validation: |          | 0/? [00:00<?, ?it/s]"
      ]
     },
     "metadata": {},
     "output_type": "display_data"
    },
    {
     "data": {
      "application/vnd.jupyter.widget-view+json": {
       "model_id": "00a6509c0a1a441d924f1e419e71be25",
       "version_major": 2,
       "version_minor": 0
      },
      "text/plain": [
       "Validation: |          | 0/? [00:00<?, ?it/s]"
      ]
     },
     "metadata": {},
     "output_type": "display_data"
    },
    {
     "data": {
      "application/vnd.jupyter.widget-view+json": {
       "model_id": "1696ce7b98b84b2c875f4ab1f4b61ceb",
       "version_major": 2,
       "version_minor": 0
      },
      "text/plain": [
       "Validation: |          | 0/? [00:00<?, ?it/s]"
      ]
     },
     "metadata": {},
     "output_type": "display_data"
    },
    {
     "data": {
      "application/vnd.jupyter.widget-view+json": {
       "model_id": "78864d6bf4b644a49cf44d49f95bfed3",
       "version_major": 2,
       "version_minor": 0
      },
      "text/plain": [
       "Validation: |          | 0/? [00:00<?, ?it/s]"
      ]
     },
     "metadata": {},
     "output_type": "display_data"
    },
    {
     "data": {
      "application/vnd.jupyter.widget-view+json": {
       "model_id": "0e16f8975fd242f9ad90e53e0b4908a2",
       "version_major": 2,
       "version_minor": 0
      },
      "text/plain": [
       "Validation: |          | 0/? [00:00<?, ?it/s]"
      ]
     },
     "metadata": {},
     "output_type": "display_data"
    },
    {
     "data": {
      "application/vnd.jupyter.widget-view+json": {
       "model_id": "4a991117351747a88a77b33cbf0b688c",
       "version_major": 2,
       "version_minor": 0
      },
      "text/plain": [
       "Validation: |          | 0/? [00:00<?, ?it/s]"
      ]
     },
     "metadata": {},
     "output_type": "display_data"
    },
    {
     "data": {
      "application/vnd.jupyter.widget-view+json": {
       "model_id": "51d9c35b1a0d491f81b24a26e7872bca",
       "version_major": 2,
       "version_minor": 0
      },
      "text/plain": [
       "Validation: |          | 0/? [00:00<?, ?it/s]"
      ]
     },
     "metadata": {},
     "output_type": "display_data"
    },
    {
     "data": {
      "application/vnd.jupyter.widget-view+json": {
       "model_id": "98f8d80f98f04173b92d60d59a8da4ac",
       "version_major": 2,
       "version_minor": 0
      },
      "text/plain": [
       "Validation: |          | 0/? [00:00<?, ?it/s]"
      ]
     },
     "metadata": {},
     "output_type": "display_data"
    },
    {
     "data": {
      "application/vnd.jupyter.widget-view+json": {
       "model_id": "c2f6e12ef2604f088e3ea229c1201988",
       "version_major": 2,
       "version_minor": 0
      },
      "text/plain": [
       "Validation: |          | 0/? [00:00<?, ?it/s]"
      ]
     },
     "metadata": {},
     "output_type": "display_data"
    },
    {
     "data": {
      "application/vnd.jupyter.widget-view+json": {
       "model_id": "8ca5907523ff48eca981a9c4c77fd945",
       "version_major": 2,
       "version_minor": 0
      },
      "text/plain": [
       "Validation: |          | 0/? [00:00<?, ?it/s]"
      ]
     },
     "metadata": {},
     "output_type": "display_data"
    },
    {
     "data": {
      "application/vnd.jupyter.widget-view+json": {
       "model_id": "0249f1b76c36489c98813c1548ea1b5f",
       "version_major": 2,
       "version_minor": 0
      },
      "text/plain": [
       "Validation: |          | 0/? [00:00<?, ?it/s]"
      ]
     },
     "metadata": {},
     "output_type": "display_data"
    },
    {
     "data": {
      "application/vnd.jupyter.widget-view+json": {
       "model_id": "5310ae14bf004881afa6a7f73c934913",
       "version_major": 2,
       "version_minor": 0
      },
      "text/plain": [
       "Validation: |          | 0/? [00:00<?, ?it/s]"
      ]
     },
     "metadata": {},
     "output_type": "display_data"
    },
    {
     "data": {
      "application/vnd.jupyter.widget-view+json": {
       "model_id": "46335de0f222408fb10b6a57a74926b0",
       "version_major": 2,
       "version_minor": 0
      },
      "text/plain": [
       "Validation: |          | 0/? [00:00<?, ?it/s]"
      ]
     },
     "metadata": {},
     "output_type": "display_data"
    },
    {
     "data": {
      "application/vnd.jupyter.widget-view+json": {
       "model_id": "b148124484204152b58991cc8cfec38f",
       "version_major": 2,
       "version_minor": 0
      },
      "text/plain": [
       "Validation: |          | 0/? [00:00<?, ?it/s]"
      ]
     },
     "metadata": {},
     "output_type": "display_data"
    },
    {
     "data": {
      "application/vnd.jupyter.widget-view+json": {
       "model_id": "6db26b75dbfa4808b9ed75476b49cd4e",
       "version_major": 2,
       "version_minor": 0
      },
      "text/plain": [
       "Validation: |          | 0/? [00:00<?, ?it/s]"
      ]
     },
     "metadata": {},
     "output_type": "display_data"
    },
    {
     "data": {
      "application/vnd.jupyter.widget-view+json": {
       "model_id": "353d759b7512448f999e50467aa3bd09",
       "version_major": 2,
       "version_minor": 0
      },
      "text/plain": [
       "Validation: |          | 0/? [00:00<?, ?it/s]"
      ]
     },
     "metadata": {},
     "output_type": "display_data"
    },
    {
     "data": {
      "application/vnd.jupyter.widget-view+json": {
       "model_id": "3077d1c7d94c45418e2cec1f46424b00",
       "version_major": 2,
       "version_minor": 0
      },
      "text/plain": [
       "Validation: |          | 0/? [00:00<?, ?it/s]"
      ]
     },
     "metadata": {},
     "output_type": "display_data"
    },
    {
     "data": {
      "application/vnd.jupyter.widget-view+json": {
       "model_id": "23ad777e94f3432aa11369f4eeaa41dd",
       "version_major": 2,
       "version_minor": 0
      },
      "text/plain": [
       "Validation: |          | 0/? [00:00<?, ?it/s]"
      ]
     },
     "metadata": {},
     "output_type": "display_data"
    },
    {
     "data": {
      "application/vnd.jupyter.widget-view+json": {
       "model_id": "c5bddbdad49c4b429330a215f4921860",
       "version_major": 2,
       "version_minor": 0
      },
      "text/plain": [
       "Validation: |          | 0/? [00:00<?, ?it/s]"
      ]
     },
     "metadata": {},
     "output_type": "display_data"
    },
    {
     "data": {
      "application/vnd.jupyter.widget-view+json": {
       "model_id": "2d47ce08774d44819461a5b1bd955519",
       "version_major": 2,
       "version_minor": 0
      },
      "text/plain": [
       "Validation: |          | 0/? [00:00<?, ?it/s]"
      ]
     },
     "metadata": {},
     "output_type": "display_data"
    },
    {
     "data": {
      "application/vnd.jupyter.widget-view+json": {
       "model_id": "f065e2ba890940b9b31ae295a13b13ba",
       "version_major": 2,
       "version_minor": 0
      },
      "text/plain": [
       "Validation: |          | 0/? [00:00<?, ?it/s]"
      ]
     },
     "metadata": {},
     "output_type": "display_data"
    },
    {
     "data": {
      "application/vnd.jupyter.widget-view+json": {
       "model_id": "3f67202858af4cf0903a626f20b636f8",
       "version_major": 2,
       "version_minor": 0
      },
      "text/plain": [
       "Validation: |          | 0/? [00:00<?, ?it/s]"
      ]
     },
     "metadata": {},
     "output_type": "display_data"
    },
    {
     "data": {
      "application/vnd.jupyter.widget-view+json": {
       "model_id": "8a65229c6c2f43ee8ace3ff50ecec005",
       "version_major": 2,
       "version_minor": 0
      },
      "text/plain": [
       "Validation: |          | 0/? [00:00<?, ?it/s]"
      ]
     },
     "metadata": {},
     "output_type": "display_data"
    },
    {
     "data": {
      "application/vnd.jupyter.widget-view+json": {
       "model_id": "8367e9b6ce0b4abd8d81e11b3cf779ad",
       "version_major": 2,
       "version_minor": 0
      },
      "text/plain": [
       "Validation: |          | 0/? [00:00<?, ?it/s]"
      ]
     },
     "metadata": {},
     "output_type": "display_data"
    },
    {
     "data": {
      "application/vnd.jupyter.widget-view+json": {
       "model_id": "86d2ff3eef2e41a0ad6e71404e0a788c",
       "version_major": 2,
       "version_minor": 0
      },
      "text/plain": [
       "Validation: |          | 0/? [00:00<?, ?it/s]"
      ]
     },
     "metadata": {},
     "output_type": "display_data"
    },
    {
     "data": {
      "application/vnd.jupyter.widget-view+json": {
       "model_id": "1ed7e8028d4e4ee6a2cd1199e193495a",
       "version_major": 2,
       "version_minor": 0
      },
      "text/plain": [
       "Validation: |          | 0/? [00:00<?, ?it/s]"
      ]
     },
     "metadata": {},
     "output_type": "display_data"
    },
    {
     "data": {
      "application/vnd.jupyter.widget-view+json": {
       "model_id": "ca5188464b314a2c85d3cd31f1ebcc8b",
       "version_major": 2,
       "version_minor": 0
      },
      "text/plain": [
       "Validation: |          | 0/? [00:00<?, ?it/s]"
      ]
     },
     "metadata": {},
     "output_type": "display_data"
    },
    {
     "data": {
      "application/vnd.jupyter.widget-view+json": {
       "model_id": "5ddeedaef46a4157affe86b3211820b2",
       "version_major": 2,
       "version_minor": 0
      },
      "text/plain": [
       "Validation: |          | 0/? [00:00<?, ?it/s]"
      ]
     },
     "metadata": {},
     "output_type": "display_data"
    },
    {
     "data": {
      "application/vnd.jupyter.widget-view+json": {
       "model_id": "b5c6bfeaab584f7784fa36f5f6d36772",
       "version_major": 2,
       "version_minor": 0
      },
      "text/plain": [
       "Validation: |          | 0/? [00:00<?, ?it/s]"
      ]
     },
     "metadata": {},
     "output_type": "display_data"
    },
    {
     "data": {
      "application/vnd.jupyter.widget-view+json": {
       "model_id": "dde35721b752429c88b13ef4ed4c7bec",
       "version_major": 2,
       "version_minor": 0
      },
      "text/plain": [
       "Validation: |          | 0/? [00:00<?, ?it/s]"
      ]
     },
     "metadata": {},
     "output_type": "display_data"
    },
    {
     "name": "stderr",
     "output_type": "stream",
     "text": [
      "`Trainer.fit` stopped: `max_epochs=35` reached.\n"
     ]
    }
   ],
   "source": [
    "trainer.fit(\n",
    "    tft,\n",
    "    train_dataloaders=train_dataloader,\n",
    "    val_dataloaders=val_dataloader,\n",
    ")"
   ]
  },
  {
   "cell_type": "code",
   "execution_count": 60,
   "metadata": {},
   "outputs": [
    {
     "name": "stdout",
     "output_type": "stream",
     "text": [
      "cpu\n"
     ]
    }
   ],
   "source": [
    "print(tft.device)"
   ]
  },
  {
   "cell_type": "code",
   "execution_count": 61,
   "metadata": {},
   "outputs": [
    {
     "name": "stderr",
     "output_type": "stream",
     "text": [
      "GPU available: True (cuda), used: True\n",
      "TPU available: False, using: 0 TPU cores\n",
      "IPU available: False, using: 0 IPUs\n",
      "HPU available: False, using: 0 HPUs\n",
      "LOCAL_RANK: 0 - CUDA_VISIBLE_DEVICES: [0]\n",
      "c:\\Users\\drami\\AppData\\Local\\Programs\\Python\\Python310\\lib\\site-packages\\lightning\\pytorch\\trainer\\connectors\\data_connector.py:436: Consider setting `persistent_workers=True` in 'predict_dataloader' to speed up the dataloader worker initialization.\n"
     ]
    },
    {
     "name": "stdout",
     "output_type": "stream",
     "text": [
      "219.74024963378906\n",
      "tensor([219.7402])\n"
     ]
    }
   ],
   "source": [
    "\n",
    "actuals = torch.cat([y[0] for x, y in iter(val_dataloader)]).to(tft.device)\n",
    "\n",
    "predictions = tft.predict(val_dataloader).to(tft.device)\n",
    "\n",
    "#average p50 loss overall\n",
    "print((actuals - predictions).abs().mean().item())\n",
    "#average p50 loss per time series\n",
    "print((actuals - predictions).abs().mean(axis=1))"
   ]
  },
  {
   "cell_type": "code",
   "execution_count": 65,
   "metadata": {},
   "outputs": [
    {
     "name": "stderr",
     "output_type": "stream",
     "text": [
      "GPU available: True (cuda), used: True\n",
      "TPU available: False, using: 0 TPU cores\n",
      "IPU available: False, using: 0 IPUs\n",
      "HPU available: False, using: 0 HPUs\n",
      "LOCAL_RANK: 0 - CUDA_VISIBLE_DEVICES: [0]\n",
      "c:\\Users\\drami\\AppData\\Local\\Programs\\Python\\Python310\\lib\\site-packages\\lightning\\pytorch\\trainer\\connectors\\data_connector.py:436: Consider setting `persistent_workers=True` in 'predict_dataloader' to speed up the dataloader worker initialization.\n"
     ]
    },
    {
     "data": {
      "text/plain": [
       "Prediction(output=Output(prediction=tensor([[[ 270.7450,  378.3580,  456.0803,  541.6513,  641.0479,  751.6946,\n",
       "           929.5598],\n",
       "         [ 235.2410,  337.2043,  408.9681,  486.8524,  580.0879,  687.1162,\n",
       "           861.9155],\n",
       "         [ 219.6163,  320.1351,  388.9893,  461.8204,  550.4877,  654.4065,\n",
       "           825.5135],\n",
       "         [ 214.1746,  318.6234,  389.5042,  463.7135,  553.2822,  657.5371,\n",
       "           828.4808],\n",
       "         [ 227.1969,  339.7331,  416.6296,  497.3724,  593.0233,  702.0751,\n",
       "           879.8574],\n",
       "         [ 270.7267,  395.7544,  483.0353,  575.8038,  682.8560,  801.2048,\n",
       "           993.2765],\n",
       "         [ 378.0592,  519.0358,  621.8728,  734.5210,  861.4720,  997.1597,\n",
       "          1220.5698],\n",
       "         [ 546.0678,  696.8878,  814.9210,  951.4744, 1106.3411, 1270.1945,\n",
       "          1554.9873],\n",
       "         [ 643.4199,  796.9670,  921.8953, 1071.5297, 1243.4897, 1425.8202,\n",
       "          1757.2362],\n",
       "         [ 635.8044,  792.1443,  917.2983, 1067.2235, 1236.3940, 1412.1516,\n",
       "          1732.8051],\n",
       "         [ 569.6248,  725.6767,  846.1464,  988.3977, 1142.3029, 1295.8289,\n",
       "          1568.6846],\n",
       "         [ 497.8350,  651.6234,  766.8489,  900.8177, 1040.1053, 1173.6671,\n",
       "          1403.1667],\n",
       "         [ 443.3516,  595.2979,  707.1365,  835.9012,  966.4950, 1088.4814,\n",
       "          1292.6790],\n",
       "         [ 417.3851,  570.0067,  681.4429,  809.0599,  937.3132, 1055.8862,\n",
       "          1251.8685],\n",
       "         [ 430.9124,  587.3035,  702.0433,  833.5344,  966.5813, 1090.4109,\n",
       "          1295.9835],\n",
       "         [ 482.9630,  642.9551,  763.1838,  902.7961, 1047.2804, 1184.8246,\n",
       "          1418.4384],\n",
       "         [ 538.3754,  699.4150,  824.1851,  971.7235, 1128.5522, 1281.8463,\n",
       "          1548.9656],\n",
       "         [ 564.9919,  725.7977,  852.7792, 1004.5276, 1168.4453, 1331.2577,\n",
       "          1618.4341],\n",
       "         [ 557.4164,  719.2247,  847.5327, 1001.1398, 1167.2583, 1332.4258,\n",
       "          1622.6514],\n",
       "         [ 517.7498,  682.6762,  812.5551,  967.4265, 1133.0619, 1295.7617,\n",
       "          1576.6138],\n",
       "         [ 450.0203,  618.2255,  749.5004,  905.6721, 1069.7402, 1227.4761,\n",
       "          1492.6227],\n",
       "         [ 348.7818,  513.4569,  642.0708,  796.6209,  955.8917, 1104.9990,\n",
       "          1348.1006],\n",
       "         [ 243.7711,  393.0871,  512.1597,  658.9649,  809.9047,  950.0275,\n",
       "          1174.9756],\n",
       "         [ 183.7296,  315.0483,  422.2618,  557.5878,  698.0884,  829.7955,\n",
       "          1041.9264]]], device='cuda:0'), encoder_attention=tensor([[[[0.0174, 0.0059, 0.0043,  ..., 0.0028, 0.0018, 0.0015]],\n",
       "\n",
       "         [[0.0169, 0.0059, 0.0044,  ..., 0.0026, 0.0017, 0.0015]],\n",
       "\n",
       "         [[0.0168, 0.0060, 0.0045,  ..., 0.0025, 0.0017, 0.0014]],\n",
       "\n",
       "         ...,\n",
       "\n",
       "         [[0.0147, 0.0042, 0.0027,  ..., 0.0023, 0.0014, 0.0011]],\n",
       "\n",
       "         [[0.0143, 0.0044, 0.0029,  ..., 0.0021, 0.0014, 0.0011]],\n",
       "\n",
       "         [[0.0141, 0.0045, 0.0030,  ..., 0.0021, 0.0014, 0.0011]]]],\n",
       "       device='cuda:0'), decoder_attention=tensor([[[[0.0000e+00, 0.0000e+00, 0.0000e+00, 0.0000e+00, 0.0000e+00,\n",
       "           0.0000e+00, 0.0000e+00, 0.0000e+00, 0.0000e+00, 0.0000e+00,\n",
       "           0.0000e+00, 0.0000e+00, 0.0000e+00, 0.0000e+00, 0.0000e+00,\n",
       "           0.0000e+00, 0.0000e+00, 0.0000e+00, 0.0000e+00, 0.0000e+00,\n",
       "           0.0000e+00, 0.0000e+00, 0.0000e+00, 0.0000e+00]],\n",
       "\n",
       "         [[4.7102e-04, 0.0000e+00, 0.0000e+00, 0.0000e+00, 0.0000e+00,\n",
       "           0.0000e+00, 0.0000e+00, 0.0000e+00, 0.0000e+00, 0.0000e+00,\n",
       "           0.0000e+00, 0.0000e+00, 0.0000e+00, 0.0000e+00, 0.0000e+00,\n",
       "           0.0000e+00, 0.0000e+00, 0.0000e+00, 0.0000e+00, 0.0000e+00,\n",
       "           0.0000e+00, 0.0000e+00, 0.0000e+00, 0.0000e+00]],\n",
       "\n",
       "         [[4.8223e-04, 4.6246e-04, 0.0000e+00, 0.0000e+00, 0.0000e+00,\n",
       "           0.0000e+00, 0.0000e+00, 0.0000e+00, 0.0000e+00, 0.0000e+00,\n",
       "           0.0000e+00, 0.0000e+00, 0.0000e+00, 0.0000e+00, 0.0000e+00,\n",
       "           0.0000e+00, 0.0000e+00, 0.0000e+00, 0.0000e+00, 0.0000e+00,\n",
       "           0.0000e+00, 0.0000e+00, 0.0000e+00, 0.0000e+00]],\n",
       "\n",
       "         [[4.6580e-04, 4.4554e-04, 4.1752e-04, 0.0000e+00, 0.0000e+00,\n",
       "           0.0000e+00, 0.0000e+00, 0.0000e+00, 0.0000e+00, 0.0000e+00,\n",
       "           0.0000e+00, 0.0000e+00, 0.0000e+00, 0.0000e+00, 0.0000e+00,\n",
       "           0.0000e+00, 0.0000e+00, 0.0000e+00, 0.0000e+00, 0.0000e+00,\n",
       "           0.0000e+00, 0.0000e+00, 0.0000e+00, 0.0000e+00]],\n",
       "\n",
       "         [[4.1564e-04, 3.9792e-04, 3.7195e-04, 3.5688e-04, 0.0000e+00,\n",
       "           0.0000e+00, 0.0000e+00, 0.0000e+00, 0.0000e+00, 0.0000e+00,\n",
       "           0.0000e+00, 0.0000e+00, 0.0000e+00, 0.0000e+00, 0.0000e+00,\n",
       "           0.0000e+00, 0.0000e+00, 0.0000e+00, 0.0000e+00, 0.0000e+00,\n",
       "           0.0000e+00, 0.0000e+00, 0.0000e+00, 0.0000e+00]],\n",
       "\n",
       "         [[3.3457e-04, 3.2183e-04, 2.9982e-04, 2.8662e-04, 2.6943e-04,\n",
       "           0.0000e+00, 0.0000e+00, 0.0000e+00, 0.0000e+00, 0.0000e+00,\n",
       "           0.0000e+00, 0.0000e+00, 0.0000e+00, 0.0000e+00, 0.0000e+00,\n",
       "           0.0000e+00, 0.0000e+00, 0.0000e+00, 0.0000e+00, 0.0000e+00,\n",
       "           0.0000e+00, 0.0000e+00, 0.0000e+00, 0.0000e+00]],\n",
       "\n",
       "         [[2.2068e-04, 2.1584e-04, 2.0065e-04, 1.9055e-04, 1.7669e-04,\n",
       "           1.5819e-04, 0.0000e+00, 0.0000e+00, 0.0000e+00, 0.0000e+00,\n",
       "           0.0000e+00, 0.0000e+00, 0.0000e+00, 0.0000e+00, 0.0000e+00,\n",
       "           0.0000e+00, 0.0000e+00, 0.0000e+00, 0.0000e+00, 0.0000e+00,\n",
       "           0.0000e+00, 0.0000e+00, 0.0000e+00, 0.0000e+00]],\n",
       "\n",
       "         [[1.2948e-04, 1.3078e-04, 1.2204e-04, 1.1504e-04, 1.0452e-04,\n",
       "           9.0237e-05, 7.5341e-05, 0.0000e+00, 0.0000e+00, 0.0000e+00,\n",
       "           0.0000e+00, 0.0000e+00, 0.0000e+00, 0.0000e+00, 0.0000e+00,\n",
       "           0.0000e+00, 0.0000e+00, 0.0000e+00, 0.0000e+00, 0.0000e+00,\n",
       "           0.0000e+00, 0.0000e+00, 0.0000e+00, 0.0000e+00]],\n",
       "\n",
       "         [[9.9009e-05, 1.0326e-04, 9.7740e-05, 9.2105e-05, 8.2630e-05,\n",
       "           6.9467e-05, 5.6953e-05, 5.5324e-05, 0.0000e+00, 0.0000e+00,\n",
       "           0.0000e+00, 0.0000e+00, 0.0000e+00, 0.0000e+00, 0.0000e+00,\n",
       "           0.0000e+00, 0.0000e+00, 0.0000e+00, 0.0000e+00, 0.0000e+00,\n",
       "           0.0000e+00, 0.0000e+00, 0.0000e+00, 0.0000e+00]],\n",
       "\n",
       "         [[1.0048e-04, 1.0618e-04, 1.0188e-04, 9.6543e-05, 8.6609e-05,\n",
       "           7.2439e-05, 5.8783e-05, 5.6215e-05, 7.3947e-05, 0.0000e+00,\n",
       "           0.0000e+00, 0.0000e+00, 0.0000e+00, 0.0000e+00, 0.0000e+00,\n",
       "           0.0000e+00, 0.0000e+00, 0.0000e+00, 0.0000e+00, 0.0000e+00,\n",
       "           0.0000e+00, 0.0000e+00, 0.0000e+00, 0.0000e+00]],\n",
       "\n",
       "         [[1.1888e-04, 1.2511e-04, 1.2125e-04, 1.1593e-04, 1.0496e-04,\n",
       "           8.8767e-05, 7.1690e-05, 6.6129e-05, 8.3336e-05, 1.0725e-04,\n",
       "           0.0000e+00, 0.0000e+00, 0.0000e+00, 0.0000e+00, 0.0000e+00,\n",
       "           0.0000e+00, 0.0000e+00, 0.0000e+00, 0.0000e+00, 0.0000e+00,\n",
       "           0.0000e+00, 0.0000e+00, 0.0000e+00, 0.0000e+00]],\n",
       "\n",
       "         [[1.4506e-04, 1.5148e-04, 1.4812e-04, 1.4295e-04, 1.3085e-04,\n",
       "           1.1228e-04, 9.0448e-05, 8.0332e-05, 9.6479e-05, 1.2072e-04,\n",
       "           1.3699e-04, 0.0000e+00, 0.0000e+00, 0.0000e+00, 0.0000e+00,\n",
       "           0.0000e+00, 0.0000e+00, 0.0000e+00, 0.0000e+00, 0.0000e+00,\n",
       "           0.0000e+00, 0.0000e+00, 0.0000e+00, 0.0000e+00]],\n",
       "\n",
       "         [[1.7022e-04, 1.7668e-04, 1.7386e-04, 1.6893e-04, 1.5591e-04,\n",
       "           1.3529e-04, 1.0892e-04, 9.4201e-05, 1.0915e-04, 1.3355e-04,\n",
       "           1.5025e-04, 1.6585e-04, 0.0000e+00, 0.0000e+00, 0.0000e+00,\n",
       "           0.0000e+00, 0.0000e+00, 0.0000e+00, 0.0000e+00, 0.0000e+00,\n",
       "           0.0000e+00, 0.0000e+00, 0.0000e+00, 0.0000e+00]],\n",
       "\n",
       "         [[1.8181e-04, 1.8812e-04, 1.8542e-04, 1.8056e-04, 1.6718e-04,\n",
       "           1.4575e-04, 1.1739e-04, 1.0059e-04, 1.1492e-04, 1.3925e-04,\n",
       "           1.5595e-04, 1.7180e-04, 1.8714e-04, 0.0000e+00, 0.0000e+00,\n",
       "           0.0000e+00, 0.0000e+00, 0.0000e+00, 0.0000e+00, 0.0000e+00,\n",
       "           0.0000e+00, 0.0000e+00, 0.0000e+00, 0.0000e+00]],\n",
       "\n",
       "         [[1.6887e-04, 1.7496e-04, 1.7190e-04, 1.6690e-04, 1.5401e-04,\n",
       "           1.3372e-04, 1.0770e-04, 9.3168e-05, 1.0786e-04, 1.3169e-04,\n",
       "           1.4780e-04, 1.6284e-04, 1.7726e-04, 1.8326e-04, 0.0000e+00,\n",
       "           0.0000e+00, 0.0000e+00, 0.0000e+00, 0.0000e+00, 0.0000e+00,\n",
       "           0.0000e+00, 0.0000e+00, 0.0000e+00, 0.0000e+00]],\n",
       "\n",
       "         [[1.4140e-04, 1.4735e-04, 1.4399e-04, 1.3896e-04, 1.2724e-04,\n",
       "           1.0926e-04, 8.7896e-05, 7.7747e-05, 9.3011e-05, 1.1601e-04,\n",
       "           1.3133e-04, 1.4512e-04, 1.5800e-04, 1.6297e-04, 1.5412e-04,\n",
       "           0.0000e+00, 0.0000e+00, 0.0000e+00, 0.0000e+00, 0.0000e+00,\n",
       "           0.0000e+00, 0.0000e+00, 0.0000e+00, 0.0000e+00]],\n",
       "\n",
       "         [[1.2389e-04, 1.2958e-04, 1.2593e-04, 1.2092e-04, 1.1006e-04,\n",
       "           9.3741e-05, 7.5438e-05, 6.8052e-05, 8.3698e-05, 1.0627e-04,\n",
       "           1.2119e-04, 1.3430e-04, 1.4626e-04, 1.5058e-04, 1.4189e-04,\n",
       "           1.2624e-04, 0.0000e+00, 0.0000e+00, 0.0000e+00, 0.0000e+00,\n",
       "           0.0000e+00, 0.0000e+00, 0.0000e+00, 0.0000e+00]],\n",
       "\n",
       "         [[1.1923e-04, 1.2461e-04, 1.2068e-04, 1.1565e-04, 1.0510e-04,\n",
       "           8.9381e-05, 7.2027e-05, 6.5472e-05, 8.1318e-05, 1.0385e-04,\n",
       "           1.1872e-04, 1.3169e-04, 1.4344e-04, 1.4758e-04, 1.3887e-04,\n",
       "           1.2349e-04, 1.1002e-04, 0.0000e+00, 0.0000e+00, 0.0000e+00,\n",
       "           0.0000e+00, 0.0000e+00, 0.0000e+00, 0.0000e+00]],\n",
       "\n",
       "         [[1.2227e-04, 1.2735e-04, 1.2325e-04, 1.1822e-04, 1.0764e-04,\n",
       "           9.1846e-05, 7.4074e-05, 6.7034e-05, 8.2750e-05, 1.0525e-04,\n",
       "           1.2011e-04, 1.3317e-04, 1.4510e-04, 1.4937e-04, 1.4064e-04,\n",
       "           1.2510e-04, 1.1142e-04, 1.0232e-04, 0.0000e+00, 0.0000e+00,\n",
       "           0.0000e+00, 0.0000e+00, 0.0000e+00, 0.0000e+00]],\n",
       "\n",
       "         [[1.3304e-04, 1.3781e-04, 1.3366e-04, 1.2865e-04, 1.1774e-04,\n",
       "           1.0121e-04, 8.1638e-05, 7.2759e-05, 8.7990e-05, 1.1047e-04,\n",
       "           1.2539e-04, 1.3881e-04, 1.5131e-04, 1.5602e-04, 1.4726e-04,\n",
       "           1.3111e-04, 1.1665e-04, 1.0707e-04, 1.0207e-04, 0.0000e+00,\n",
       "           0.0000e+00, 0.0000e+00, 0.0000e+00, 0.0000e+00]],\n",
       "\n",
       "         [[1.5479e-04, 1.5935e-04, 1.5545e-04, 1.5058e-04, 1.3890e-04,\n",
       "           1.2072e-04, 9.7323e-05, 8.4579e-05, 9.8841e-05, 1.2145e-04,\n",
       "           1.3669e-04, 1.5097e-04, 1.6468e-04, 1.7028e-04, 1.6139e-04,\n",
       "           1.4395e-04, 1.2786e-04, 1.1726e-04, 1.1202e-04, 1.1197e-04,\n",
       "           0.0000e+00, 0.0000e+00, 0.0000e+00, 0.0000e+00]],\n",
       "\n",
       "         [[2.0277e-04, 2.0675e-04, 2.0326e-04, 1.9864e-04, 1.8544e-04,\n",
       "           1.6394e-04, 1.3244e-04, 1.1127e-04, 1.2355e-04, 1.4666e-04,\n",
       "           1.6263e-04, 1.7866e-04, 1.9477e-04, 2.0205e-04, 1.9278e-04,\n",
       "           1.7273e-04, 1.5347e-04, 1.4092e-04, 1.3519e-04, 1.3590e-04,\n",
       "           1.4584e-04, 0.0000e+00, 0.0000e+00, 0.0000e+00]],\n",
       "\n",
       "         [[2.7004e-04, 2.7262e-04, 2.6951e-04, 2.6521e-04, 2.5024e-04,\n",
       "           2.2494e-04, 1.8266e-04, 1.4955e-04, 1.5840e-04, 1.8131e-04,\n",
       "           1.9733e-04, 2.1476e-04, 2.3327e-04, 2.4236e-04, 2.3281e-04,\n",
       "           2.1022e-04, 1.8779e-04, 1.7329e-04, 1.6715e-04, 1.6882e-04,\n",
       "           1.8114e-04, 2.1201e-04, 0.0000e+00, 0.0000e+00]],\n",
       "\n",
       "         [[3.2885e-04, 3.2968e-04, 3.2648e-04, 3.2218e-04, 3.0580e-04,\n",
       "           2.7777e-04, 2.2687e-04, 1.8376e-04, 1.8938e-04, 2.1148e-04,\n",
       "           2.2679e-04, 2.4464e-04, 2.6451e-04, 2.7473e-04, 2.6507e-04,\n",
       "           2.4107e-04, 2.1692e-04, 2.0136e-04, 1.9507e-04, 1.9748e-04,\n",
       "           2.1153e-04, 2.4604e-04, 3.0307e-04, 0.0000e+00]]]], device='cuda:0'), static_variables=tensor([[[0.0694, 0.4783, 0.4524]]], device='cuda:0'), encoder_variables=tensor([[[[0.1170, 0.0576, 0.0812,  ..., 0.0516, 0.0360, 0.0243]],\n",
       "\n",
       "         [[0.1273, 0.0500, 0.0834,  ..., 0.0509, 0.0328, 0.0265]],\n",
       "\n",
       "         [[0.1418, 0.0455, 0.0909,  ..., 0.0479, 0.0399, 0.0242]],\n",
       "\n",
       "         ...,\n",
       "\n",
       "         [[0.1917, 0.0176, 0.1780,  ..., 0.0448, 0.1074, 0.0165]],\n",
       "\n",
       "         [[0.1870, 0.0170, 0.1636,  ..., 0.0468, 0.1169, 0.0189]],\n",
       "\n",
       "         [[0.1839, 0.0165, 0.1536,  ..., 0.0486, 0.1150, 0.0211]]]],\n",
       "       device='cuda:0'), decoder_variables=tensor([[[[0.0958, 0.0759, 0.1031, 0.1507, 0.4676, 0.1070]],\n",
       "\n",
       "         [[0.0840, 0.0749, 0.0966, 0.1492, 0.5190, 0.0763]],\n",
       "\n",
       "         [[0.0640, 0.0780, 0.0882, 0.1503, 0.5692, 0.0503]],\n",
       "\n",
       "         [[0.0573, 0.0890, 0.0907, 0.1673, 0.5517, 0.0439]],\n",
       "\n",
       "         [[0.0577, 0.0990, 0.0977, 0.1961, 0.5088, 0.0408]],\n",
       "\n",
       "         [[0.0612, 0.1074, 0.1073, 0.2401, 0.4474, 0.0366]],\n",
       "\n",
       "         [[0.0676, 0.1159, 0.1201, 0.3079, 0.3565, 0.0319]],\n",
       "\n",
       "         [[0.0774, 0.1247, 0.1352, 0.3958, 0.2383, 0.0285]],\n",
       "\n",
       "         [[0.0919, 0.1347, 0.1493, 0.4610, 0.1336, 0.0295]],\n",
       "\n",
       "         [[0.1128, 0.1497, 0.1621, 0.4597, 0.0768, 0.0388]],\n",
       "\n",
       "         [[0.1336, 0.1667, 0.1709, 0.4173, 0.0534, 0.0581]],\n",
       "\n",
       "         [[0.1466, 0.1791, 0.1734, 0.3737, 0.0430, 0.0842]],\n",
       "\n",
       "         [[0.1517, 0.1857, 0.1714, 0.3407, 0.0374, 0.1130]],\n",
       "\n",
       "         [[0.1512, 0.1874, 0.1666, 0.3194, 0.0337, 0.1416]],\n",
       "\n",
       "         [[0.1467, 0.1853, 0.1598, 0.3096, 0.0311, 0.1675]],\n",
       "\n",
       "         [[0.1396, 0.1802, 0.1516, 0.3109, 0.0290, 0.1886]],\n",
       "\n",
       "         [[0.1313, 0.1733, 0.1429, 0.3208, 0.0275, 0.2042]],\n",
       "\n",
       "         [[0.1233, 0.1662, 0.1347, 0.3318, 0.0264, 0.2176]],\n",
       "\n",
       "         [[0.1171, 0.1605, 0.1282, 0.3335, 0.0254, 0.2353]],\n",
       "\n",
       "         [[0.1130, 0.1570, 0.1235, 0.3191, 0.0243, 0.2631]],\n",
       "\n",
       "         [[0.1107, 0.1554, 0.1198, 0.2879, 0.0230, 0.3032]],\n",
       "\n",
       "         [[0.1073, 0.1537, 0.1158, 0.2467, 0.0214, 0.3550]],\n",
       "\n",
       "         [[0.0955, 0.1471, 0.1083, 0.2132, 0.0198, 0.4160]],\n",
       "\n",
       "         [[0.0841, 0.1395, 0.1010, 0.1893, 0.0188, 0.4673]]]], device='cuda:0'), decoder_lengths=tensor([24], device='cuda:0'), encoder_lengths=tensor([168], device='cuda:0')), x={'encoder_cat': tensor([], device='cuda:0', size=(1, 168, 0), dtype=torch.int64), 'encoder_cont': tensor([[[ 1.0000e+00, -2.2045e+02, -5.6045e+02,  ...,  6.5389e-01,\n",
       "           7.4446e-01,  1.5317e+00],\n",
       "         [ 1.0000e+00, -2.2045e+02, -5.6045e+02,  ...,  5.9666e-01,\n",
       "           7.3176e-01,  1.5295e+00],\n",
       "         [ 1.0000e+00, -2.2045e+02, -5.6045e+02,  ...,  5.5426e-01,\n",
       "           7.8824e-01,  1.5283e+00],\n",
       "         ...,\n",
       "         [ 1.0000e+00, -2.2045e+02, -5.6045e+02,  ..., -3.6324e-01,\n",
       "           3.3530e-01,  1.5308e+00],\n",
       "         [ 1.0000e+00, -2.2045e+02, -5.6045e+02,  ..., -3.6324e-01,\n",
       "           3.3530e-01,  1.5308e+00],\n",
       "         [ 1.0000e+00, -2.2045e+02, -5.6045e+02,  ..., -3.6324e-01,\n",
       "           3.3530e-01,  1.5308e+00]]], device='cuda:0'), 'encoder_target': tensor([[ 5.2774e+02,  5.0505e+02,  4.8359e+02,  4.7494e+02,  4.8572e+02,\n",
       "          5.8819e+02,  6.7336e+02,  9.6246e+02,  9.9673e+02,  8.7392e+02,\n",
       "          7.7808e+02,  6.6763e+02,  6.0134e+02,  5.7774e+02,  5.8190e+02,\n",
       "          6.1583e+02,  6.2842e+02,  7.5021e+02,  7.3628e+02,  6.2527e+02,\n",
       "          5.9066e+02,  4.9078e+02,  4.3831e+02,  4.0460e+02,  4.1927e+02,\n",
       "          4.1276e+02,  4.1310e+02,  4.1310e+02,  4.2578e+02,  4.3778e+02,\n",
       "          4.7952e+02,  5.9900e+02,  6.2043e+02,  6.3031e+02,  6.2335e+02,\n",
       "          6.2099e+02,  5.8049e+02,  5.6086e+02,  5.7915e+02,  5.6815e+02,\n",
       "          5.9261e+02,  6.2537e+02,  6.1539e+02,  5.9104e+02,  5.1643e+02,\n",
       "          4.6157e+02,  4.4171e+02,  3.8572e+02,  3.4706e+02,  3.0718e+02,\n",
       "          3.0326e+02,  3.1311e+02,  3.4650e+02,  3.2857e+02,  3.7921e+02,\n",
       "          6.3810e+02,  7.2806e+02,  7.2806e+02,  6.7182e+02,  7.2806e+02,\n",
       "          5.8590e+02,  3.9568e+02,  3.9142e+02,  3.8593e+02,  3.8224e+02,\n",
       "          3.8246e+02,  3.7887e+02,  3.4997e+02,  3.3630e+02,  2.7379e+02,\n",
       "          1.3510e+02,  2.1850e+01,  1.7890e+01,  1.1630e+01,  3.9100e+00,\n",
       "          0.0000e+00,  0.0000e+00,  0.0000e+00,  2.9180e+01,  1.6053e+02,\n",
       "          1.6411e+02,  1.3907e+02,  5.5900e+01,  5.5000e+01,  7.4230e+01,\n",
       "          3.8900e+01,  2.1200e+00,  1.1000e-01,  2.6830e+01,  6.7070e+01,\n",
       "          6.0030e+01,  2.2130e+01,  0.0000e+00, -1.0100e+00, -1.6800e+00,\n",
       "         -1.0960e+01,  0.0000e+00,  0.0000e+00,  1.1000e-01,  3.8180e+01,\n",
       "          7.2010e+01,  1.5831e+02,  1.7104e+02,  2.3859e+02,  4.0159e+02,\n",
       "          5.0765e+02,  5.3567e+02,  4.7907e+02,  3.3594e+02,  3.3996e+02,\n",
       "          3.4655e+02,  3.7848e+02,  5.7721e+02,  6.3169e+02,  8.1311e+02,\n",
       "          5.5320e+02,  4.3095e+02,  4.6746e+02,  4.5261e+02,  4.0840e+02,\n",
       "          3.7254e+02,  3.7433e+02,  3.5456e+02,  3.4931e+02,  3.4495e+02,\n",
       "          3.4082e+02,  3.4316e+02,  3.4484e+02,  3.7712e+02,  3.9187e+02,\n",
       "          3.9321e+02,  3.8170e+02,  3.3970e+02,  3.3635e+02,  3.3535e+02,\n",
       "          3.4261e+02,  5.1955e+02,  8.8964e+02,  1.0142e+03,  8.1736e+02,\n",
       "          7.1102e+02,  4.8727e+02,  4.3756e+02,  3.3523e+02,  2.9636e+02,\n",
       "          3.0150e+02,  3.1010e+02,  3.2172e+02,  3.7891e+02,  3.9053e+02,\n",
       "          5.3128e+02,  7.2721e+02,  8.8506e+02,  7.9915e+02,  7.2152e+02,\n",
       "          6.9839e+02,  6.3237e+02,  6.2925e+02,  6.5885e+02,  6.6298e+02,\n",
       "          6.9761e+02,  8.3345e+02,  9.2348e+02,  8.7690e+02,  7.8173e+02,\n",
       "          7.1102e+02,  6.6968e+02,  6.5773e+02]], device='cuda:0'), 'encoder_lengths': tensor([168], device='cuda:0'), 'decoder_cat': tensor([], device='cuda:0', size=(1, 24, 0), dtype=torch.int64), 'decoder_cont': tensor([[[ 1.0000e+00, -2.2045e+02, -5.6045e+02,  1.9603e+00, -1.2464e+00,\n",
       "          -1.0000e+00, -6.3246e-01, -1.6613e+00,  0.0000e+00,  7.5965e-01,\n",
       "           9.3922e-01,  2.4675e-01,  1.8368e-01,  1.5296e-01, -1.1353e+00,\n",
       "          -3.6324e-01,  3.3530e-01,  1.5308e+00],\n",
       "         [ 1.0000e+00, -2.2045e+02, -5.6045e+02,  1.9603e+00, -1.2464e+00,\n",
       "          -1.0000e+00, -6.3246e-01, -1.5169e+00,  5.9524e-03,  6.5603e-01,\n",
       "           1.0676e+00,  8.9070e-02,  1.4676e-01,  8.9849e-02, -1.1353e+00,\n",
       "          -3.6324e-01,  3.3530e-01,  1.5308e+00],\n",
       "         [ 1.0000e+00, -2.2045e+02, -5.6045e+02,  1.9603e+00, -1.2464e+00,\n",
       "          -1.0000e+00, -6.3246e-01, -1.3724e+00,  1.1905e-02,  4.9571e-01,\n",
       "           7.2521e-01,  4.4018e-02,  1.1445e-01,  7.4071e-02, -1.1353e+00,\n",
       "          -3.6324e-01,  3.3530e-01,  1.5308e+00],\n",
       "         [ 1.0000e+00, -2.2045e+02, -5.6045e+02,  1.9603e+00, -1.2464e+00,\n",
       "          -1.0000e+00, -6.3246e-01, -1.2279e+00,  1.7857e-02,  5.3636e-01,\n",
       "           1.1960e+00,  2.0170e-01,  1.0060e-01,  5.8293e-02, -1.1353e+00,\n",
       "          -3.6324e-01,  3.3530e-01,  1.5308e+00],\n",
       "         [ 1.0000e+00, -2.2045e+02, -5.6045e+02,  1.9603e+00, -1.2464e+00,\n",
       "          -1.0000e+00, -6.3246e-01, -1.0835e+00,  2.3810e-02,  7.2080e-01,\n",
       "           2.0093e+00,  6.6544e-02,  1.0521e-01,  4.2516e-02, -1.1353e+00,\n",
       "          -3.6324e-01,  3.3530e-01,  1.5308e+00],\n",
       "         [ 1.0000e+00, -2.2045e+02, -5.6045e+02,  1.9603e+00, -1.2464e+00,\n",
       "          -1.0000e+00, -6.3246e-01, -9.3901e-01,  2.9762e-02,  7.5297e-01,\n",
       "           1.8809e+00, -1.3619e-01,  3.6832e-01,  3.1074e-01, -1.1353e+00,\n",
       "          -3.6324e-01,  3.3530e-01,  1.5308e+00],\n",
       "         [ 1.0000e+00, -2.2045e+02, -5.6045e+02,  1.9603e+00, -1.2464e+00,\n",
       "          -1.0000e+00, -6.3246e-01, -7.9455e-01,  3.5714e-02,  9.5122e-01,\n",
       "           2.0093e+00, -1.8124e-01,  7.6990e-01,  8.9452e-01, -1.1353e+00,\n",
       "          -3.6324e-01,  3.3530e-01,  1.5308e+00],\n",
       "         [ 1.0000e+00, -2.2045e+02, -5.6045e+02,  1.9603e+00, -1.2464e+00,\n",
       "          -1.0000e+00, -6.3246e-01, -6.5008e-01,  4.1667e-02,  2.4049e+00,\n",
       "           2.1805e+00, -2.0377e-01,  1.1530e+00,  1.3047e+00, -1.1353e+00,\n",
       "          -3.6324e-01,  3.3530e-01,  1.5308e+00],\n",
       "         [ 1.0000e+00, -2.2045e+02, -5.6045e+02,  1.9603e+00, -1.2464e+00,\n",
       "          -1.0000e+00, -6.3246e-01, -5.0562e-01,  4.7619e-02,  2.4111e+00,\n",
       "           1.7097e+00, -6.8611e-02,  1.2500e+00,  1.4467e+00, -1.1353e+00,\n",
       "          -3.6324e-01,  3.3530e-01,  1.5308e+00],\n",
       "         [ 1.0000e+00, -2.2045e+02, -5.6045e+02,  1.9603e+00, -1.2464e+00,\n",
       "          -1.0000e+00, -6.3246e-01, -3.6116e-01,  5.3571e-02,  1.7631e+00,\n",
       "           2.0949e+00,  5.3959e-01,  1.2684e+00,  1.3836e+00, -1.1353e+00,\n",
       "          -3.6324e-01,  3.3530e-01,  1.5308e+00],\n",
       "         [ 1.0000e+00, -2.2045e+02, -5.6045e+02,  1.9603e+00, -1.2464e+00,\n",
       "          -1.0000e+00, -6.3246e-01, -2.1669e-01,  5.9524e-02,  1.2397e+00,\n",
       "           2.6513e+00,  8.3242e-01,  1.3007e+00,  1.3994e+00, -1.1353e+00,\n",
       "          -3.6324e-01,  3.3530e-01,  1.5308e+00],\n",
       "         [ 1.0000e+00, -2.2045e+02, -5.6045e+02,  1.9603e+00, -1.2464e+00,\n",
       "          -1.0000e+00, -6.3246e-01, -7.2232e-02,  6.5476e-02,  1.0763e+00,\n",
       "           1.7097e+00,  7.4232e-01,  1.2500e+00,  1.4310e+00, -1.1353e+00,\n",
       "          -3.6324e-01,  3.3530e-01,  1.5308e+00],\n",
       "         [ 1.0000e+00, -2.2045e+02, -5.6045e+02,  1.9603e+00, -1.2464e+00,\n",
       "          -1.0000e+00, -6.3246e-01,  7.2232e-02,  7.1429e-02,  8.3067e-01,\n",
       "           1.7097e+00,  7.4232e-01,  1.2500e+00,  1.4310e+00, -1.1353e+00,\n",
       "          -3.6324e-01,  3.3530e-01,  1.5308e+00],\n",
       "         [ 1.0000e+00, -2.2045e+02, -5.6045e+02,  1.9603e+00, -1.2464e+00,\n",
       "          -1.0000e+00, -6.3246e-01,  2.1669e-01,  7.7381e-02,  8.3023e-01,\n",
       "           1.7097e+00,  7.4232e-01,  1.2500e+00,  1.4310e+00, -1.1353e+00,\n",
       "          -3.6324e-01,  3.3530e-01,  1.5308e+00],\n",
       "         [ 1.0000e+00, -2.2045e+02, -5.6045e+02,  1.9603e+00, -1.2464e+00,\n",
       "          -1.0000e+00, -6.3246e-01,  3.6116e-01,  8.3333e-02,  7.6769e-01,\n",
       "           1.7097e+00,  7.4232e-01,  1.2500e+00,  1.4310e+00, -1.1353e+00,\n",
       "          -3.6324e-01,  3.3530e-01,  1.5308e+00],\n",
       "         [ 1.0000e+00, -2.2045e+02, -5.6045e+02,  1.9603e+00, -1.2464e+00,\n",
       "          -1.0000e+00, -6.3246e-01,  5.0562e-01,  8.9286e-02,  8.1235e-01,\n",
       "           1.7097e+00,  7.4232e-01,  1.2500e+00,  1.4310e+00, -1.1353e+00,\n",
       "          -3.6324e-01,  3.3530e-01,  1.5308e+00],\n",
       "         [ 1.0000e+00, -2.2045e+02, -5.6045e+02,  1.9603e+00, -1.2464e+00,\n",
       "          -1.0000e+00, -6.3246e-01,  6.5008e-01,  9.5238e-02,  9.1237e-01,\n",
       "           1.7097e+00,  7.4232e-01,  1.2500e+00,  1.4310e+00, -1.1353e+00,\n",
       "          -3.6324e-01,  3.3530e-01,  1.5308e+00],\n",
       "         [ 1.0000e+00, -2.2045e+02, -5.6045e+02,  1.9603e+00, -1.2464e+00,\n",
       "          -1.0000e+00, -6.3246e-01,  7.9455e-01,  1.0119e-01,  9.4410e-01,\n",
       "           1.7097e+00,  7.4232e-01,  1.2500e+00,  1.4310e+00, -1.1353e+00,\n",
       "          -3.6324e-01,  3.3530e-01,  1.5308e+00],\n",
       "         [ 1.0000e+00, -2.2045e+02, -5.6045e+02,  1.9603e+00, -1.2464e+00,\n",
       "          -1.0000e+00, -6.3246e-01,  9.3901e-01,  1.0714e-01,  9.4410e-01,\n",
       "           1.7097e+00,  7.4232e-01,  1.2500e+00,  1.4310e+00, -1.1353e+00,\n",
       "          -3.6324e-01,  3.3530e-01,  1.5308e+00],\n",
       "         [ 1.0000e+00, -2.2045e+02, -5.6045e+02,  1.9603e+00, -1.2464e+00,\n",
       "          -1.0000e+00, -6.3246e-01,  1.0835e+00,  1.1310e-01,  8.8648e-01,\n",
       "           1.7097e+00,  7.4232e-01,  1.2500e+00,  1.4310e+00, -1.1353e+00,\n",
       "          -3.6324e-01,  3.3530e-01,  1.5308e+00],\n",
       "         [ 1.0000e+00, -2.2045e+02, -5.6045e+02,  1.9603e+00, -1.2464e+00,\n",
       "          -1.0000e+00, -6.3246e-01,  1.2279e+00,  1.1905e-01, -3.9387e-01,\n",
       "           1.7097e+00,  7.4232e-01,  1.2500e+00,  1.4310e+00, -1.1353e+00,\n",
       "          -3.6324e-01,  3.3530e-01,  1.5308e+00],\n",
       "         [ 1.0000e+00, -2.2045e+02, -5.6045e+02,  1.9603e+00, -1.2464e+00,\n",
       "          -1.0000e+00, -6.3246e-01,  1.3724e+00,  1.2500e-01, -4.8901e-01,\n",
       "           1.7097e+00,  7.4232e-01,  1.2500e+00,  1.4310e+00, -1.1353e+00,\n",
       "          -3.6324e-01,  3.3530e-01,  1.5308e+00],\n",
       "         [ 1.0000e+00, -2.2045e+02, -5.6045e+02,  1.9603e+00, -1.2464e+00,\n",
       "          -1.0000e+00, -6.3246e-01,  1.5169e+00,  1.3095e-01, -6.4665e-01,\n",
       "           1.7097e+00,  7.4232e-01,  1.2500e+00,  1.4310e+00, -1.1353e+00,\n",
       "          -3.6324e-01,  3.3530e-01,  1.5308e+00],\n",
       "         [ 1.0000e+00, -2.2045e+02, -5.6045e+02,  1.9603e+00, -1.2464e+00,\n",
       "          -1.0000e+00, -6.3246e-01,  1.6613e+00,  1.3690e-01, -8.2437e-01,\n",
       "           1.7097e+00,  7.4232e-01,  1.2500e+00,  1.4310e+00, -1.1353e+00,\n",
       "          -3.6324e-01,  3.3530e-01,  1.5308e+00]]], device='cuda:0'), 'decoder_target': tensor([[ 623.1700,  597.2700,  557.2000,  567.3600,  613.4600,  621.5000,\n",
       "          671.0500, 1034.3700, 1035.9399,  873.9800,  743.1600,  702.3100,\n",
       "          640.9200,  640.8100,  625.1800,  636.3400,  661.3400,  669.2700,\n",
       "          669.2700,  654.8700,  334.8600,  311.0800,  271.6800,  227.2600]],\n",
       "       device='cuda:0'), 'decoder_lengths': tensor([24], device='cuda:0'), 'decoder_time_idx': tensor([[45192, 45193, 45194, 45195, 45196, 45197, 45198, 45199, 45200, 45201,\n",
       "         45202, 45203, 45204, 45205, 45206, 45207, 45208, 45209, 45210, 45211,\n",
       "         45212, 45213, 45214, 45215]], device='cuda:0'), 'groups': tensor([[0]], device='cuda:0'), 'target_scale': tensor([[433.3031, 249.9390]], device='cuda:0')}, index=None, decoder_lengths=None, y=None)"
      ]
     },
     "execution_count": 65,
     "metadata": {},
     "output_type": "execute_result"
    }
   ],
   "source": [
    "tft.predict(val_dataloader, mode=\"raw\", return_x=True)"
   ]
  },
  {
   "cell_type": "code",
   "execution_count": 68,
   "metadata": {},
   "outputs": [
    {
     "name": "stderr",
     "output_type": "stream",
     "text": [
      "GPU available: True (cuda), used: True\n",
      "TPU available: False, using: 0 TPU cores\n",
      "IPU available: False, using: 0 IPUs\n",
      "HPU available: False, using: 0 HPUs\n"
     ]
    },
    {
     "name": "stderr",
     "output_type": "stream",
     "text": [
      "LOCAL_RANK: 0 - CUDA_VISIBLE_DEVICES: [0]\n",
      "c:\\Users\\drami\\AppData\\Local\\Programs\\Python\\Python310\\lib\\site-packages\\lightning\\pytorch\\trainer\\connectors\\data_connector.py:436: Consider setting `persistent_workers=True` in 'predict_dataloader' to speed up the dataloader worker initialization.\n"
     ]
    },
    {
     "ename": "IndexError",
     "evalue": "index 1 is out of bounds for dimension 0 with size 1",
     "output_type": "error",
     "traceback": [
      "\u001b[1;31m---------------------------------------------------------------------------\u001b[0m",
      "\u001b[1;31mIndexError\u001b[0m                                Traceback (most recent call last)",
      "Cell \u001b[1;32mIn[68], line 3\u001b[0m\n\u001b[0;32m      1\u001b[0m raw_predictions \u001b[38;5;241m=\u001b[39m tft\u001b[38;5;241m.\u001b[39mpredict(val_dataloader, mode\u001b[38;5;241m=\u001b[39m\u001b[38;5;124m\"\u001b[39m\u001b[38;5;124mraw\u001b[39m\u001b[38;5;124m\"\u001b[39m, return_x\u001b[38;5;241m=\u001b[39m\u001b[38;5;28;01mTrue\u001b[39;00m)\n\u001b[0;32m      2\u001b[0m \u001b[38;5;28;01mfor\u001b[39;00m idx \u001b[38;5;129;01min\u001b[39;00m \u001b[38;5;28mrange\u001b[39m(\u001b[38;5;241m10\u001b[39m):  \u001b[38;5;66;03m# plot 10 examples\u001b[39;00m\n\u001b[1;32m----> 3\u001b[0m     \u001b[43mtft\u001b[49m\u001b[38;5;241;43m.\u001b[39;49m\u001b[43mplot_prediction\u001b[49m\u001b[43m(\u001b[49m\u001b[43mraw_predictions\u001b[49m\u001b[38;5;241;43m.\u001b[39;49m\u001b[43mx\u001b[49m\u001b[43m,\u001b[49m\u001b[43m \u001b[49m\u001b[43mraw_predictions\u001b[49m\u001b[38;5;241;43m.\u001b[39;49m\u001b[43moutput\u001b[49m\u001b[43m,\u001b[49m\u001b[43m \u001b[49m\u001b[43midx\u001b[49m\u001b[38;5;241;43m=\u001b[39;49m\u001b[43midx\u001b[49m\u001b[43m,\u001b[49m\u001b[43m \u001b[49m\u001b[43madd_loss_to_title\u001b[49m\u001b[38;5;241;43m=\u001b[39;49m\u001b[38;5;28;43;01mTrue\u001b[39;49;00m\u001b[43m)\u001b[49m\n",
      "File \u001b[1;32mc:\\Users\\drami\\AppData\\Local\\Programs\\Python\\Python310\\lib\\site-packages\\pytorch_forecasting\\models\\temporal_fusion_transformer\\__init__.py:711\u001b[0m, in \u001b[0;36mTemporalFusionTransformer.plot_prediction\u001b[1;34m(self, x, out, idx, plot_attention, add_loss_to_title, show_future_observed, ax, **kwargs)\u001b[0m\n\u001b[0;32m    694\u001b[0m \u001b[38;5;250m\u001b[39m\u001b[38;5;124;03m\"\"\"\u001b[39;00m\n\u001b[0;32m    695\u001b[0m \u001b[38;5;124;03mPlot actuals vs prediction and attention\u001b[39;00m\n\u001b[0;32m    696\u001b[0m \n\u001b[1;32m   (...)\u001b[0m\n\u001b[0;32m    707\u001b[0m \u001b[38;5;124;03m    plt.Figure: matplotlib figure\u001b[39;00m\n\u001b[0;32m    708\u001b[0m \u001b[38;5;124;03m\"\"\"\u001b[39;00m\n\u001b[0;32m    710\u001b[0m \u001b[38;5;66;03m# plot prediction as normal\u001b[39;00m\n\u001b[1;32m--> 711\u001b[0m fig \u001b[38;5;241m=\u001b[39m \u001b[38;5;28msuper\u001b[39m()\u001b[38;5;241m.\u001b[39mplot_prediction(\n\u001b[0;32m    712\u001b[0m     x,\n\u001b[0;32m    713\u001b[0m     out,\n\u001b[0;32m    714\u001b[0m     idx\u001b[38;5;241m=\u001b[39midx,\n\u001b[0;32m    715\u001b[0m     add_loss_to_title\u001b[38;5;241m=\u001b[39madd_loss_to_title,\n\u001b[0;32m    716\u001b[0m     show_future_observed\u001b[38;5;241m=\u001b[39mshow_future_observed,\n\u001b[0;32m    717\u001b[0m     ax\u001b[38;5;241m=\u001b[39max,\n\u001b[0;32m    718\u001b[0m     \u001b[38;5;241m*\u001b[39m\u001b[38;5;241m*\u001b[39mkwargs,\n\u001b[0;32m    719\u001b[0m )\n\u001b[0;32m    721\u001b[0m \u001b[38;5;66;03m# add attention on secondary axis\u001b[39;00m\n\u001b[0;32m    722\u001b[0m \u001b[38;5;28;01mif\u001b[39;00m plot_attention:\n",
      "File \u001b[1;32mc:\\Users\\drami\\AppData\\Local\\Programs\\Python\\Python310\\lib\\site-packages\\pytorch_forecasting\\models\\base_model.py:999\u001b[0m, in \u001b[0;36mBaseModel.plot_prediction\u001b[1;34m(self, x, out, idx, add_loss_to_title, show_future_observed, ax, quantiles_kwargs, prediction_kwargs)\u001b[0m\n\u001b[0;32m    995\u001b[0m figs \u001b[38;5;241m=\u001b[39m []\n\u001b[0;32m    996\u001b[0m \u001b[38;5;28;01mfor\u001b[39;00m y_raw, y_hat, y_quantile, encoder_target, decoder_target \u001b[38;5;129;01min\u001b[39;00m \u001b[38;5;28mzip\u001b[39m(\n\u001b[0;32m    997\u001b[0m     y_raws, y_hats, y_quantiles, encoder_targets, decoder_targets\n\u001b[0;32m    998\u001b[0m ):\n\u001b[1;32m--> 999\u001b[0m     y_all \u001b[38;5;241m=\u001b[39m torch\u001b[38;5;241m.\u001b[39mcat([\u001b[43mencoder_target\u001b[49m\u001b[43m[\u001b[49m\u001b[43midx\u001b[49m\u001b[43m]\u001b[49m, decoder_target[idx]])\n\u001b[0;32m   1000\u001b[0m     max_encoder_length \u001b[38;5;241m=\u001b[39m x[\u001b[38;5;124m\"\u001b[39m\u001b[38;5;124mencoder_lengths\u001b[39m\u001b[38;5;124m\"\u001b[39m]\u001b[38;5;241m.\u001b[39mmax()\n\u001b[0;32m   1001\u001b[0m     y \u001b[38;5;241m=\u001b[39m torch\u001b[38;5;241m.\u001b[39mcat(\n\u001b[0;32m   1002\u001b[0m         (\n\u001b[0;32m   1003\u001b[0m             y_all[: x[\u001b[38;5;124m\"\u001b[39m\u001b[38;5;124mencoder_lengths\u001b[39m\u001b[38;5;124m\"\u001b[39m][idx]],\n\u001b[0;32m   1004\u001b[0m             y_all[max_encoder_length : (max_encoder_length \u001b[38;5;241m+\u001b[39m x[\u001b[38;5;124m\"\u001b[39m\u001b[38;5;124mdecoder_lengths\u001b[39m\u001b[38;5;124m\"\u001b[39m][idx])],\n\u001b[0;32m   1005\u001b[0m         ),\n\u001b[0;32m   1006\u001b[0m     )\n",
      "\u001b[1;31mIndexError\u001b[0m: index 1 is out of bounds for dimension 0 with size 1"
     ]
    },
    {
     "data": {
      "image/png": "[encoded data removed]",
      "text/plain": [
       "<Figure size 640x480 with 2 Axes>"
      ]
     },
     "metadata": {},
     "output_type": "display_data"
    }
   ],
   "source": [
    "raw_predictions = tft.predict(val_dataloader, mode=\"raw\", return_x=True)\n",
    "for idx in range(10):  # plot 10 examples\n",
    "    tft.plot_prediction(raw_predictions.x, raw_predictions.output, idx=idx, add_loss_to_title=True)\n",
    "    "
   ]
  }
 ],
 "metadata": {
  "kernelspec": {
   "display_name": "Python 3",
   "language": "python",
   "name": "python3"
  },
  "language_info": {
   "codemirror_mode": {
    "name": "ipython",
    "version": 3
   },
   "file_extension": ".py",
   "mimetype": "text/x-python",
   "name": "python",
   "nbconvert_exporter": "python",
   "pygments_lexer": "ipython3",
   "version": "3.10.11"
  }
 },
 "nbformat": 4,
 "nbformat_minor": 2
}
