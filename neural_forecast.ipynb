{
 "cells": [
  {
   "cell_type": "code",
   "execution_count": 1,
   "metadata": {},
   "outputs": [
    {
     "name": "stdout",
     "output_type": "stream",
     "text": [
      "Missing values in Index(['spotPrice'], dtype='object') : 6\n",
      "Missing values in Index(['ConsumptionSE1GWh', 'ConsumptionSE2GWh', 'ConsumptionSE3GWh',\n",
      "       'ConsumptionSE4GWh'],\n",
      "      dtype='object') : 24\n",
      "Missing values in Index(['nucFI(MWh)', 'nucDE(MWh)'], dtype='object') : 1224\n",
      "Missing values in Index(['wind(Mwh)', 'solar(Mwh)', 'trm(Mwh)', 'biomass(Mwh)', 'coal(MWh)',\n",
      "       'gas(MWh)', 'oil(MWh)', 'lignite(MWh)', 'nuc(MWh)', 'pump(MWh)',\n",
      "       'other(MWh)', 'waste(MWh)'],\n",
      "      dtype='object') : 1537\n",
      "Missing values in Index(['waterSE1(MWh)', 'windSE1(MWh)', 'trmSE1MWh'], dtype='object') : 94\n",
      "Missing values in Index(['waterSE2(MWh)', 'windSE2(MWh)', 'solSE2MWh', 'trmSE2MWh', 'OthSE2MWh'], dtype='object') : 240\n",
      "Missing values in Index(['waterSE3(MWh)', 'windSE3(MWh)', 'nucSE3(MWh)', 'solSE3MWh',\n",
      "       'trmSE3MWh', 'OthSE3MWh'],\n",
      "      dtype='object') : 259\n",
      "Missing values in Index(['waterSE4(MWh)', 'windSE4(MWh)', 'solSE4MWh', 'trmSE4MWh', 'OthSE4MWh'], dtype='object') : 251\n",
      "Missing values in Index(['HydroRes(GWh_week)', 'HydroResSE3(GWh_week)'], dtype='object') : 288\n",
      "Missing values in Index(['Temperature(day)', 'PrecipitationEnergySE(day)'], dtype='object') : 24\n"
     ]
    }
   ],
   "source": [
    "import datastore\n",
    "\n",
    "import pandas as pd\n",
    "import matplotlib.pyplot as plt\n",
    "import numpy as np\n",
    "\n",
    "spot = datastore.getSpotPrice()\n",
    "\n",
    "cons_gwh = datastore.getConsumptionGWh()\n",
    "\n",
    "nuclear_finland_germany_mwh = datastore.getHourlyProduction_nuclear_EU()\n",
    "germany_all = datastore.getHourlyProduction_Germany_all()\n",
    "\n",
    "production_se1_mwh = datastore.getAllSE1ProductionMWh() \n",
    "production_se2_mwh = datastore.getAllSE2ProductionMWh()\n",
    "production_se3_mwh = datastore.getAllSE3ProductionMWh()\n",
    "production_se4_mwh = datastore.getAllSE4ProductionMWh()\n",
    "\n",
    "hydroReservoirs = datastore.getWeeklyHydroReservs()\n",
    "\n",
    "temp_pen = datastore.getDailyWeather()\n",
    "\n",
    "# stationCap = datastore.getStationCap_forecast()\n",
    "# transTo = datastore.getTransmissionCapTo_forecast()\n",
    "# transFrom = datastore.getTransmissionCapFrom_forecast()\n",
    "\n",
    "# productionCap = datastore.getProductionCap_forecast()"
   ]
  },
  {
   "cell_type": "code",
   "execution_count": 2,
   "metadata": {},
   "outputs": [
    {
     "name": "stdout",
     "output_type": "stream",
     "text": [
      "<class 'pandas.core.frame.DataFrame'>\n",
      "DatetimeIndex: 54408 entries, 2018-01-01 00:00:00 to 2024-03-16 23:00:00\n",
      "Data columns (total 39 columns):\n",
      " #   Column                      Non-Null Count  Dtype         \n",
      "---  ------                      --------------  -----         \n",
      " 0   ds                          54408 non-null  datetime64[ns]\n",
      " 1   unique_id                   54408 non-null  int64         \n",
      " 2   y                           54408 non-null  float64       \n",
      " 3   ConsumptionSE1GWh           54408 non-null  float64       \n",
      " 4   ConsumptionSE2GWh           54408 non-null  float64       \n",
      " 5   ConsumptionSE3GWh           54408 non-null  float64       \n",
      " 6   ConsumptionSE4GWh           54408 non-null  float64       \n",
      " 7   waterSE1(MWh)               54408 non-null  float64       \n",
      " 8   windSE1(MWh)                54408 non-null  float64       \n",
      " 9   trmSE1MWh                   54408 non-null  float64       \n",
      " 10  waterSE2(MWh)               54408 non-null  float64       \n",
      " 11  windSE2(MWh)                54408 non-null  float64       \n",
      " 12  solSE2MWh                   54408 non-null  float64       \n",
      " 13  trmSE2MWh                   54408 non-null  float64       \n",
      " 14  OthSE2MWh                   54408 non-null  float64       \n",
      " 15  waterSE3(MWh)               54408 non-null  float64       \n",
      " 16  windSE3(MWh)                54408 non-null  float64       \n",
      " 17  nucSE3(MWh)                 54408 non-null  float64       \n",
      " 18  solSE3MWh                   54408 non-null  float64       \n",
      " 19  trmSE3MWh                   54408 non-null  float64       \n",
      " 20  OthSE3MWh                   54408 non-null  float64       \n",
      " 21  waterSE4(MWh)               54408 non-null  float64       \n",
      " 22  windSE4(MWh)                54408 non-null  float64       \n",
      " 23  solSE4MWh                   54408 non-null  float64       \n",
      " 24  trmSE4MWh                   54408 non-null  float64       \n",
      " 25  OthSE4MWh                   54408 non-null  float64       \n",
      " 26  Temperature(day)            54408 non-null  float64       \n",
      " 27  PrecipitationEnergySE(day)  54408 non-null  float64       \n",
      " 28  HydroRes(GWh_week)          54408 non-null  float64       \n",
      " 29  HydroResSE3(GWh_week)       54408 non-null  float64       \n",
      " 30  year                        54408 non-null  int64         \n",
      " 31  month                       54408 non-null  int64         \n",
      " 32  day_of_week                 54408 non-null  int64         \n",
      " 33  weekend                     54408 non-null  int64         \n",
      " 34  hour                        54408 non-null  int64         \n",
      " 35  sunrise_hour                54408 non-null  int64         \n",
      " 36  sunset_hour                 54408 non-null  int64         \n",
      " 37  daylight_hours              54408 non-null  int64         \n",
      " 38  holidays                    54408 non-null  int32         \n",
      "dtypes: datetime64[ns](1), float64(28), int32(1), int64(9)\n",
      "memory usage: 16.4 MB\n"
     ]
    }
   ],
   "source": [
    "import calendar_features as cf\n",
    "\n",
    "dataset = pd.concat([spot, cons_gwh, production_se1_mwh, production_se2_mwh, \n",
    "                                    production_se3_mwh, production_se4_mwh, temp_pen, hydroReservoirs], axis=1)\n",
    "dataset.interpolate(method = 'linear', limit_direction = 'forward', inplace=True, axis=0)\n",
    "\n",
    "daylight_features = cf.daylight_extractor(dataset)\n",
    "holiday_features = cf.get_holidays(dataset)\n",
    "dataset = cf.calendar_transformer(dataset)\n",
    "\n",
    "dataset = pd.concat([dataset, daylight_features, holiday_features], axis=1)\n",
    "\n",
    "dataset.rename(columns = {\"spotPrice\" : \"y\"}, inplace=True)\n",
    "dataset.insert(0, \"unique_id\", 1)\n",
    "dataset.insert(0, \"ds\", dataset.index)\n",
    "\n",
    "dataset.info()"
   ]
  },
  {
   "cell_type": "code",
   "execution_count": 4,
   "metadata": {},
   "outputs": [
    {
     "name": "stdout",
     "output_type": "stream",
     "text": [
      "Your Device is cuda.\n"
     ]
    }
   ],
   "source": [
    "import torch\n",
    "\n",
    "device = (torch.device('cuda') if torch.cuda.is_available()\n",
    "          else torch.device('cpu'))\n",
    "print(f\"Your Device is {device}.\")"
   ]
  },
  {
   "cell_type": "code",
   "execution_count": 5,
   "metadata": {},
   "outputs": [],
   "source": [
    "\n",
    "test_period = 120\n",
    "futr_exog_list = dataset.iloc[:, 30:].columns.to_list()\n",
    "past_cov_list = dataset.iloc[:, 2:30].columns.to_list()\n",
    "\n",
    "validation_split = int(0.2 * len(dataset.ds.unique()))\n",
    "\n",
    "train_df = dataset.iloc[:-validation_split - test_period]\n",
    "val_df = dataset.iloc[-validation_split - test_period:-test_period]\n",
    "test_df = dataset.iloc[-test_period:]\n",
    "\n",
    "test_df = test_df.drop(columns=past_cov_list[1:])\n",
    "\n",
    "h = val_df.ds.nunique()"
   ]
  },
  {
   "cell_type": "code",
   "execution_count": null,
   "metadata": {},
   "outputs": [],
   "source": [
    "from neuralforecast import NeuralForecast\n",
    "from neuralforecast.models import LSTM\n",
    "from neuralforecast.losses.pytorch import MAE, MSE, MAPE\n",
    "\n",
    "horizon = 24 * 5\n",
    "\n",
    "nf = NeuralForecast(\n",
    "    models = [LSTM(h = h, \n",
    "                input_size=-1, \n",
    "                \n",
    "                max_steps= 30,\n",
    "                scaler_type = \"minmax\",\n",
    "                batch_size = 32,\n",
    "                \n",
    "                loss=MAE(),\n",
    "                \n",
    "                futr_exog_list = futr_exog_list,\n",
    "                hist_exog_list = past_cov_list,\n",
    "                \n",
    "                encoder_n_layers=1, \n",
    "                encoder_hidden_size = 16,\n",
    "                \n",
    "                context_size = 10, \n",
    "                \n",
    "                decoder_hidden_size = 16,   \n",
    "                decoder_layers=1, \n",
    "                )], freq = \"H\"\n",
    ")\n",
    "\n",
    "nf.fit(df=train_df, verbose = True)"
   ]
  },
  {
   "cell_type": "code",
   "execution_count": null,
   "metadata": {},
   "outputs": [],
   "source": [
    "y_hat = nf.predict(futr_df=test_df)\n",
    "\n",
    "plt.figure(figsize=(16, 10))\n",
    "plt.plot(test_df.ds, test_df.y, label = \"True\")\n",
    "plt.plot(y_hat.ds, y_hat.LSTM, label = \"Predicted\", alpha = 0.7)\n",
    "plt.legend()\n",
    "plt.show()"
   ]
  }
 ],
 "metadata": {
  "kernelspec": {
   "display_name": "Python 3",
   "language": "python",
   "name": "python3"
  },
  "language_info": {
   "codemirror_mode": {
    "name": "ipython",
    "version": 3
   },
   "file_extension": ".py",
   "mimetype": "text/x-python",
   "name": "python",
   "nbconvert_exporter": "python",
   "pygments_lexer": "ipython3",
   "version": "3.10.11"
  }
 },
 "nbformat": 4,
 "nbformat_minor": 2
}
