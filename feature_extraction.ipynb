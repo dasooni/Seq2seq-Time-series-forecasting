{
 "cells": [
  {
   "cell_type": "code",
   "execution_count": 4,
   "metadata": {},
   "outputs": [
    {
     "name": "stdout",
     "output_type": "stream",
     "text": [
      "Missing values in Index(['spotPrice'], dtype='object') : 5\n"
     ]
    }
   ],
   "source": [
    "import datastore\n",
    "\n",
    "import pandas as pd\n",
    "import seaborn as sns\n",
    "import matplotlib.pyplot as plt\n",
    "\n",
    "spot = datastore.getSpotPrice()\n",
    "\n",
    "# production = datastore.getAllProductionMWh()\n",
    "\n",
    "# cons = datastore.getConsumptionGWh()\n",
    "# productionGwh = datastore.getProductionGWh()\n",
    "# # capacityTo = datastore.getCapacityTo()\n",
    "# transCapTo = datastore.getTransmissionCapTo()\n",
    "\n",
    "# otherData = datastore.getOtherNordPoolData()\n",
    "# hydroReservoirs = datastore.getWeeklyHydroReservs()\n",
    "\n",
    "# temp = datastore.getDailyWeather()\n"
   ]
  },
  {
   "cell_type": "code",
   "execution_count": 10,
   "metadata": {},
   "outputs": [],
   "source": [
    "\n",
    "# Will use these after all the other features are extracted\n",
    "def calendar_transformer(df):\n",
    "    '''Extracts calendar features from datetime index'''\n",
    "    from feature_engine.datetime import DatetimeFeatures\n",
    "    \n",
    "    transformer = DatetimeFeatures(\n",
    "        variables   =  \"index\",\n",
    "        features_to_extract = ['year', 'month', 'day_of_week', 'weekend', 'hour'] \n",
    "    )\n",
    "    return transformer.fit_transform(df)\n",
    "\n",
    "def daylight_extractor(df):\n",
    "    ''' Extracts daylight features from datetime index'''\n",
    "    from astral.sun import sun\n",
    "    from astral import LocationInfo\n",
    "    \n",
    "    location = LocationInfo(\"Stockholm\", \"Sweden\", \"Europe/Stockholm\")\n",
    "    sunrise_hour = [sun(location.observer, date=date)['sunrise'].hour for date in df.index]\n",
    "    sunset_hour = [sun(location.observer, date=date)['sunset'].hour for date in df.index]\n",
    "    \n",
    "    sun_light_features = pd.DataFrame({'sunrise_hour': sunrise_hour, 'sunset_hour': sunset_hour}, index=df.index)\n",
    "    sun_light_features['daylight_hours'] = sun_light_features['sunset_hour'] - sun_light_features['sunrise_hour']\n",
    "    \n",
    "    return sun_light_features\n",
    "\n",
    "def get_holidays(df):\n",
    "    ''' Extracts holidays from datetime index'''\n",
    "    import holidays\n",
    "    \n",
    "    holidays_dict = holidays.Sweden()\n",
    "    holidays_list = [date in holidays_dict for date in df.index]\n",
    "    return pd.DataFrame({'holidays': holidays_list}, index=df.index)\n",
    "    \n",
    "    \n",
    "# Extracting features\n",
    "calendar_features = calendar_transformer(spot)\n",
    "sun_light_features = daylight_extractor(spot)\n",
    "holidays_features = get_holidays(spot)\n"
   ]
  }
 ],
 "metadata": {
  "kernelspec": {
   "display_name": "Python 3",
   "language": "python",
   "name": "python3"
  },
  "language_info": {
   "codemirror_mode": {
    "name": "ipython",
    "version": 3
   },
   "file_extension": ".py",
   "mimetype": "text/x-python",
   "name": "python",
   "nbconvert_exporter": "python",
   "pygments_lexer": "ipython3",
   "version": "3.10.11"
  }
 },
 "nbformat": 4,
 "nbformat_minor": 2
}
