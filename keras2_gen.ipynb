{
 "cells": [
  {
   "cell_type": "code",
   "execution_count": 1,
   "metadata": {},
   "outputs": [
    {
     "name": "stdout",
     "output_type": "stream",
     "text": [
      "Missing values in Index(['spotPrice'], dtype='object') : 6\n",
      "Missing values in Index(['ConsumptionSE1GWh', 'ConsumptionSE2GWh', 'ConsumptionSE3GWh',\n",
      "       'ConsumptionSE4GWh'],\n",
      "      dtype='object') : 24\n",
      "Missing values in Index(['nucFI(MWh)', 'nucDE(MWh)'], dtype='object') : 1224\n",
      "Missing values in Index(['wind(Mwh)', 'solar(Mwh)', 'trm(Mwh)', 'biomass(Mwh)', 'coal(MWh)',\n",
      "       'gas(MWh)', 'oil(MWh)', 'lignite(MWh)', 'nuc(MWh)', 'pump(MWh)',\n",
      "       'other(MWh)', 'waste(MWh)'],\n",
      "      dtype='object') : 1537\n",
      "Missing values in Index(['waterSE1(MWh)', 'windSE1(MWh)', 'trmSE1MWh'], dtype='object') : 94\n",
      "Missing values in Index(['waterSE2(MWh)', 'windSE2(MWh)', 'solSE2MWh', 'trmSE2MWh', 'OthSE2MWh'], dtype='object') : 240\n",
      "Missing values in Index(['waterSE3(MWh)', 'windSE3(MWh)', 'nucSE3(MWh)', 'solSE3MWh',\n",
      "       'trmSE3MWh', 'OthSE3MWh'],\n",
      "      dtype='object') : 259\n",
      "Missing values in Index(['waterSE4(MWh)', 'windSE4(MWh)', 'solSE4MWh', 'trmSE4MWh', 'OthSE4MWh'], dtype='object') : 251\n",
      "Missing values in Index(['HydroRes(GWh_week)', 'HydroResSE3(GWh_week)'], dtype='object') : 288\n",
      "Missing values in Index(['Temperature(day)', 'PrecipitationEnergySE(day)'], dtype='object') : 24\n"
     ]
    }
   ],
   "source": [
    "import datastore\n",
    "\n",
    "import pandas as pd\n",
    "import matplotlib.pyplot as plt\n",
    "import numpy as np\n",
    "\n",
    "spot = datastore.getSpotPrice()\n",
    "\n",
    "cons_gwh = datastore.getConsumptionGWh()\n",
    "\n",
    "nuclear_finland_germany_mwh = datastore.getHourlyProduction_nuclear_EU()\n",
    "germany_all = datastore.getHourlyProduction_Germany_all()\n",
    "\n",
    "production_se1_mwh = datastore.getAllSE1ProductionMWh() \n",
    "production_se2_mwh = datastore.getAllSE2ProductionMWh()\n",
    "production_se3_mwh = datastore.getAllSE3ProductionMWh()\n",
    "production_se4_mwh = datastore.getAllSE4ProductionMWh()\n",
    "\n",
    "hydroReservoirs = datastore.getWeeklyHydroReservs()\n",
    "\n",
    "temp_pen = datastore.getDailyWeather()\n",
    "\n",
    "# stationCap = datastore.getStationCap_forecast()\n",
    "# transTo = datastore.getTransmissionCapTo_forecast()\n",
    "# transFrom = datastore.getTransmissionCapFrom_forecast()\n",
    "\n",
    "# productionCap = datastore.getProductionCap_forecast()"
   ]
  },
  {
   "cell_type": "code",
   "execution_count": 2,
   "metadata": {},
   "outputs": [
    {
     "name": "stdout",
     "output_type": "stream",
     "text": [
      "<class 'pandas.core.frame.DataFrame'>\n",
      "DatetimeIndex: 54408 entries, 2018-01-01 00:00:00 to 2024-03-16 23:00:00\n",
      "Data columns (total 37 columns):\n",
      " #   Column                      Non-Null Count  Dtype  \n",
      "---  ------                      --------------  -----  \n",
      " 0   spotPrice                   54408 non-null  float64\n",
      " 1   ConsumptionSE1GWh           54408 non-null  float64\n",
      " 2   ConsumptionSE2GWh           54408 non-null  float64\n",
      " 3   ConsumptionSE3GWh           54408 non-null  float64\n",
      " 4   ConsumptionSE4GWh           54408 non-null  float64\n",
      " 5   waterSE1(MWh)               54408 non-null  float64\n",
      " 6   windSE1(MWh)                54408 non-null  float64\n",
      " 7   trmSE1MWh                   54408 non-null  float64\n",
      " 8   waterSE2(MWh)               54408 non-null  float64\n",
      " 9   windSE2(MWh)                54408 non-null  float64\n",
      " 10  solSE2MWh                   54408 non-null  float64\n",
      " 11  trmSE2MWh                   54408 non-null  float64\n",
      " 12  OthSE2MWh                   54408 non-null  float64\n",
      " 13  waterSE3(MWh)               54408 non-null  float64\n",
      " 14  windSE3(MWh)                54408 non-null  float64\n",
      " 15  nucSE3(MWh)                 54408 non-null  float64\n",
      " 16  solSE3MWh                   54408 non-null  float64\n",
      " 17  trmSE3MWh                   54408 non-null  float64\n",
      " 18  OthSE3MWh                   54408 non-null  float64\n",
      " 19  waterSE4(MWh)               54408 non-null  float64\n",
      " 20  windSE4(MWh)                54408 non-null  float64\n",
      " 21  solSE4MWh                   54408 non-null  float64\n",
      " 22  trmSE4MWh                   54408 non-null  float64\n",
      " 23  OthSE4MWh                   54408 non-null  float64\n",
      " 24  Temperature(day)            54408 non-null  float64\n",
      " 25  PrecipitationEnergySE(day)  54408 non-null  float64\n",
      " 26  HydroRes(GWh_week)          54408 non-null  float64\n",
      " 27  HydroResSE3(GWh_week)       54408 non-null  float64\n",
      " 28  year                        54408 non-null  int64  \n",
      " 29  month                       54408 non-null  int64  \n",
      " 30  day_of_week                 54408 non-null  int64  \n",
      " 31  weekend                     54408 non-null  int64  \n",
      " 32  hour                        54408 non-null  int64  \n",
      " 33  sunrise_hour                54408 non-null  int64  \n",
      " 34  sunset_hour                 54408 non-null  int64  \n",
      " 35  daylight_hours              54408 non-null  int64  \n",
      " 36  holidays                    54408 non-null  int32  \n",
      "dtypes: float64(28), int32(1), int64(8)\n",
      "memory usage: 15.6 MB\n"
     ]
    }
   ],
   "source": [
    "import calendar_features as cf\n",
    "\n",
    "dataset = pd.concat([spot, cons_gwh, production_se1_mwh, production_se2_mwh, \n",
    "                                    production_se3_mwh, production_se4_mwh, temp_pen, hydroReservoirs], axis=1)\n",
    "dataset.interpolate(method = 'linear', limit_direction = 'forward', inplace=True, axis=0)\n",
    "\n",
    "daylight_features = cf.daylight_extractor(dataset)\n",
    "holiday_features = cf.get_holidays(dataset)\n",
    "dataset = cf.calendar_transformer(dataset)\n",
    "\n",
    "dataset = pd.concat([dataset, daylight_features, holiday_features], axis=1)\n",
    "\n",
    "dataset.info()"
   ]
  },
  {
   "cell_type": "code",
   "execution_count": 3,
   "metadata": {},
   "outputs": [],
   "source": [
    "from sklearn.preprocessing import MinMaxScaler\n",
    "\n",
    "past_cov = dataset.iloc[:, 1:28]\n",
    "future_cov = dataset.iloc[:, 28:]\n",
    "target = dataset.iloc[:,0].to_frame()\n",
    "\n",
    "train_split = int(len(dataset) * 0.7)\n",
    "validation_split = int(len(dataset) * 0.85)\n",
    "test_split = int(len(dataset))\n",
    "\n",
    "past_cov_scaler = MinMaxScaler()\n",
    "future_cov_scaler = MinMaxScaler()\n",
    "target_scaler = MinMaxScaler()\n",
    "\n",
    "past_cov_scaled = past_cov_scaler.fit_transform(past_cov)\n",
    "future_cov_scaled = future_cov_scaler.fit_transform(future_cov)\n",
    "target_scaled = target_scaler.fit_transform(target)"
   ]
  },
  {
   "cell_type": "code",
   "execution_count": null,
   "metadata": {},
   "outputs": [],
   "source": [
    "train_df = pd.concat([pd.DataFrame(past_cov_scaled[:train_split]), \n",
    "                      pd.DataFrame(future_cov_scaled[:train_split]), \n",
    "                      pd.DataFrame(target_scaled[:train_split])], axis=1)\n",
    "\n",
    "val_df = pd.concat([pd.DataFrame(past_cov_scaled[train_split:validation_split]),\n",
    "                    pd.DataFrame(future_cov_scaled[train_split:validation_split]),\n",
    "                    pd.DataFrame(target_scaled[train_split:validation_split])], axis=1)\n",
    "\n",
    "test_df = pd.concat([pd.DataFrame(past_cov_scaled[validation_split:test_split]),\n",
    "                        pd.DataFrame(future_cov_scaled[validation_split:test_split]),\n",
    "                        pd.DataFrame(target_scaled[validation_split:test_split])], axis=1)\n",
    "\n",
    "print(f\"train_df: {train_df.shape}\")\n",
    "print(f\"val_df: {val_df.shape}\")\n",
    "print(f\"test_df: {test_df.shape}\") "
   ]
  },
  {
   "cell_type": "code",
   "execution_count": 28,
   "metadata": {},
   "outputs": [],
   "source": [
    "x_train_1 = pd.DataFrame(past_cov_scaled[:train_split])\n",
    "x_train_2 = pd.DataFrame(future_cov_scaled[:train_split])\n",
    "x_train = pd.concat([x_train_1, x_train_2], axis=1)\n",
    "\n",
    "x_val_1 = pd.DataFrame(past_cov_scaled[train_split:validation_split])\n",
    "x_val_2 = pd.DataFrame(future_cov_scaled[train_split:validation_split])\n",
    "x_val = pd.concat([x_val_1, x_val_2], axis=1)\n",
    "\n",
    "x_test_1 = pd.DataFrame(past_cov_scaled[validation_split:test_split])\n",
    "x_test_2 = pd.DataFrame(future_cov_scaled[validation_split:test_split])\n",
    "x_test = pd.concat([x_test_1, x_test_2], axis=1)\n",
    "\n",
    "y_train = pd.DataFrame(target_scaled[:train_split])\n",
    "y_val = pd.DataFrame(target_scaled[train_split:validation_split])\n",
    "y_test = pd.DataFrame(target_scaled[validation_split:test_split])\n"
   ]
  },
  {
   "cell_type": "code",
   "execution_count": 89,
   "metadata": {},
   "outputs": [],
   "source": [
    "import keras\n",
    "\n",
    "past = 24 * 2\n",
    "step = 1\n",
    "\n",
    "seq_length = int(past / step)\n",
    "batch_size = 32\n",
    "\n",
    "train_gen_1 = keras.utils.timeseries_dataset_from_array(\n",
    "    x_train, y_train, sequence_length=seq_length, sequence_stride=1, sampling_rate=1, batch_size=batch_size\n",
    ")\n",
    "val_gen_1 = keras.utils.timeseries_dataset_from_array(\n",
    "    x_val, y_val, sequence_length=seq_length, sequence_stride=1, sampling_rate=1, batch_size=batch_size\n",
    ")\n",
    "test_gen_1 = keras.utils.timeseries_dataset_from_array(\n",
    "    x_test, y_test, sequence_length=seq_length, sequence_stride=1, sampling_rate=1, batch_size=batch_size\n",
    ")\n"
   ]
  },
  {
   "cell_type": "code",
   "execution_count": null,
   "metadata": {},
   "outputs": [],
   "source": [
    "from keras.layers import LSTM, Dense, Input\n",
    "early_stopping = keras.callbacks.EarlyStopping(monitor='val_loss', patience=5, mode='min')\n",
    "\n",
    "model = keras.Sequential([\n",
    "    Input(shape=(seq_length, x_train_1.shape[1])) ,\n",
    "    LSTM(8, activation= \"relu\" , return_sequences=True),\n",
    "    Dense(1),\n",
    "])\n",
    "\n",
    "model.compile(optimizer=keras.optimizers.Adam(learning_rate=0.001), loss=\"mse\", metrics=[\"mae\"])\n",
    "model.summary()\n"
   ]
  },
  {
   "cell_type": "code",
   "execution_count": 97,
   "metadata": {},
   "outputs": [
    {
     "name": "stdout",
     "output_type": "stream",
     "text": [
      "Epoch 1/30\n",
      "\u001b[1m1188/1188\u001b[0m \u001b[32m━━━━━━━━━━━━━━━━━━━━\u001b[0m\u001b[37m\u001b[0m \u001b[1m11s\u001b[0m 7ms/step - loss: 0.0036 - mae: 0.0436\n",
      "Epoch 2/30\n",
      "\u001b[1m  26/1188\u001b[0m \u001b[37m━━━━━━━━━━━━━━━━━━━━\u001b[0m \u001b[1m7s\u001b[0m 6ms/step - loss: 0.0034 - mae: 0.0488"
     ]
    },
    {
     "name": "stderr",
     "output_type": "stream",
     "text": [
      "c:\\Users\\drami\\AppData\\Local\\Programs\\Python\\Python310\\lib\\site-packages\\keras\\src\\callbacks\\early_stopping.py:156: UserWarning: Early stopping conditioned on metric `val_loss` which is not available. Available metrics are: loss,mae\n",
      "  current = self.get_monitor_value(logs)\n"
     ]
    },
    {
     "name": "stdout",
     "output_type": "stream",
     "text": [
      "\u001b[1m1188/1188\u001b[0m \u001b[32m━━━━━━━━━━━━━━━━━━━━\u001b[0m\u001b[37m\u001b[0m \u001b[1m8s\u001b[0m 6ms/step - loss: 8.4480e-04 - mae: 0.0208\n",
      "Epoch 3/30\n",
      "\u001b[1m1188/1188\u001b[0m \u001b[32m━━━━━━━━━━━━━━━━━━━━\u001b[0m\u001b[37m\u001b[0m \u001b[1m8s\u001b[0m 6ms/step - loss: 9.0176e-04 - mae: 0.0190\n",
      "Epoch 4/30\n",
      "\u001b[1m1188/1188\u001b[0m \u001b[32m━━━━━━━━━━━━━━━━━━━━\u001b[0m\u001b[37m\u001b[0m \u001b[1m8s\u001b[0m 7ms/step - loss: 0.0010 - mae: 0.0187\n",
      "Epoch 5/30\n",
      "\u001b[1m1188/1188\u001b[0m \u001b[32m━━━━━━━━━━━━━━━━━━━━\u001b[0m\u001b[37m\u001b[0m \u001b[1m8s\u001b[0m 7ms/step - loss: 8.6276e-04 - mae: 0.0166\n",
      "Epoch 6/30\n",
      "\u001b[1m1188/1188\u001b[0m \u001b[32m━━━━━━━━━━━━━━━━━━━━\u001b[0m\u001b[37m\u001b[0m \u001b[1m8s\u001b[0m 6ms/step - loss: 6.6458e-04 - mae: 0.0146\n",
      "Epoch 7/30\n",
      "\u001b[1m1188/1188\u001b[0m \u001b[32m━━━━━━━━━━━━━━━━━━━━\u001b[0m\u001b[37m\u001b[0m \u001b[1m8s\u001b[0m 6ms/step - loss: 5.1516e-04 - mae: 0.0133\n",
      "Epoch 8/30\n",
      "\u001b[1m1188/1188\u001b[0m \u001b[32m━━━━━━━━━━━━━━━━━━━━\u001b[0m\u001b[37m\u001b[0m \u001b[1m8s\u001b[0m 7ms/step - loss: 4.9206e-04 - mae: 0.0135\n",
      "Epoch 9/30\n",
      "\u001b[1m1188/1188\u001b[0m \u001b[32m━━━━━━━━━━━━━━━━━━━━\u001b[0m\u001b[37m\u001b[0m \u001b[1m8s\u001b[0m 6ms/step - loss: 3.7273e-04 - mae: 0.0120\n",
      "Epoch 10/30\n",
      "\u001b[1m1188/1188\u001b[0m \u001b[32m━━━━━━━━━━━━━━━━━━━━\u001b[0m\u001b[37m\u001b[0m \u001b[1m7s\u001b[0m 6ms/step - loss: 3.4408e-04 - mae: 0.0114\n",
      "Epoch 11/30\n",
      "\u001b[1m1188/1188\u001b[0m \u001b[32m━━━━━━━━━━━━━━━━━━━━\u001b[0m\u001b[37m\u001b[0m \u001b[1m7s\u001b[0m 6ms/step - loss: 3.1641e-04 - mae: 0.0106\n",
      "Epoch 12/30\n",
      "\u001b[1m1188/1188\u001b[0m \u001b[32m━━━━━━━━━━━━━━━━━━━━\u001b[0m\u001b[37m\u001b[0m \u001b[1m8s\u001b[0m 6ms/step - loss: 3.4274e-04 - mae: 0.0106\n",
      "Epoch 13/30\n",
      "\u001b[1m1188/1188\u001b[0m \u001b[32m━━━━━━━━━━━━━━━━━━━━\u001b[0m\u001b[37m\u001b[0m \u001b[1m8s\u001b[0m 6ms/step - loss: 3.4755e-04 - mae: 0.0106\n",
      "Epoch 14/30\n",
      "\u001b[1m1188/1188\u001b[0m \u001b[32m━━━━━━━━━━━━━━━━━━━━\u001b[0m\u001b[37m\u001b[0m \u001b[1m8s\u001b[0m 6ms/step - loss: 3.4307e-04 - mae: 0.0105\n",
      "Epoch 15/30\n",
      "\u001b[1m1188/1188\u001b[0m \u001b[32m━━━━━━━━━━━━━━━━━━━━\u001b[0m\u001b[37m\u001b[0m \u001b[1m7s\u001b[0m 6ms/step - loss: 3.3040e-04 - mae: 0.0103\n",
      "Epoch 16/30\n",
      "\u001b[1m1188/1188\u001b[0m \u001b[32m━━━━━━━━━━━━━━━━━━━━\u001b[0m\u001b[37m\u001b[0m \u001b[1m8s\u001b[0m 6ms/step - loss: 3.1085e-04 - mae: 0.0101\n",
      "Epoch 17/30\n",
      "\u001b[1m1188/1188\u001b[0m \u001b[32m━━━━━━━━━━━━━━━━━━━━\u001b[0m\u001b[37m\u001b[0m \u001b[1m7s\u001b[0m 6ms/step - loss: 3.0392e-04 - mae: 0.0100\n",
      "Epoch 18/30\n",
      "\u001b[1m1188/1188\u001b[0m \u001b[32m━━━━━━━━━━━━━━━━━━━━\u001b[0m\u001b[37m\u001b[0m \u001b[1m7s\u001b[0m 6ms/step - loss: 2.9717e-04 - mae: 0.0099\n",
      "Epoch 19/30\n",
      "\u001b[1m1188/1188\u001b[0m \u001b[32m━━━━━━━━━━━━━━━━━━━━\u001b[0m\u001b[37m\u001b[0m \u001b[1m7s\u001b[0m 6ms/step - loss: 2.8474e-04 - mae: 0.0098\n",
      "Epoch 20/30\n",
      "\u001b[1m1188/1188\u001b[0m \u001b[32m━━━━━━━━━━━━━━━━━━━━\u001b[0m\u001b[37m\u001b[0m \u001b[1m7s\u001b[0m 6ms/step - loss: 2.6605e-04 - mae: 0.0096\n",
      "Epoch 21/30\n",
      "\u001b[1m1188/1188\u001b[0m \u001b[32m━━━━━━━━━━━━━━━━━━━━\u001b[0m\u001b[37m\u001b[0m \u001b[1m7s\u001b[0m 6ms/step - loss: 2.4368e-04 - mae: 0.0093\n",
      "Epoch 22/30\n",
      "\u001b[1m1188/1188\u001b[0m \u001b[32m━━━━━━━━━━━━━━━━━━━━\u001b[0m\u001b[37m\u001b[0m \u001b[1m7s\u001b[0m 6ms/step - loss: 2.3047e-04 - mae: 0.0092\n",
      "Epoch 23/30\n",
      "\u001b[1m1188/1188\u001b[0m \u001b[32m━━━━━━━━━━━━━━━━━━━━\u001b[0m\u001b[37m\u001b[0m \u001b[1m7s\u001b[0m 6ms/step - loss: 2.1127e-04 - mae: 0.0091\n",
      "Epoch 24/30\n",
      "\u001b[1m1188/1188\u001b[0m \u001b[32m━━━━━━━━━━━━━━━━━━━━\u001b[0m\u001b[37m\u001b[0m \u001b[1m7s\u001b[0m 6ms/step - loss: 1.9544e-04 - mae: 0.0090\n",
      "Epoch 25/30\n",
      "\u001b[1m1188/1188\u001b[0m \u001b[32m━━━━━━━━━━━━━━━━━━━━\u001b[0m\u001b[37m\u001b[0m \u001b[1m7s\u001b[0m 6ms/step - loss: 1.8842e-04 - mae: 0.0089\n",
      "Epoch 26/30\n",
      "\u001b[1m1188/1188\u001b[0m \u001b[32m━━━━━━━━━━━━━━━━━━━━\u001b[0m\u001b[37m\u001b[0m \u001b[1m7s\u001b[0m 6ms/step - loss: 1.8572e-04 - mae: 0.0089\n",
      "Epoch 27/30\n",
      "\u001b[1m1188/1188\u001b[0m \u001b[32m━━━━━━━━━━━━━━━━━━━━\u001b[0m\u001b[37m\u001b[0m \u001b[1m7s\u001b[0m 6ms/step - loss: 1.8206e-04 - mae: 0.0088\n",
      "Epoch 28/30\n",
      "\u001b[1m1188/1188\u001b[0m \u001b[32m━━━━━━━━━━━━━━━━━━━━\u001b[0m\u001b[37m\u001b[0m \u001b[1m7s\u001b[0m 6ms/step - loss: 1.7463e-04 - mae: 0.0087\n",
      "Epoch 29/30\n",
      "\u001b[1m1188/1188\u001b[0m \u001b[32m━━━━━━━━━━━━━━━━━━━━\u001b[0m\u001b[37m\u001b[0m \u001b[1m7s\u001b[0m 6ms/step - loss: 1.6375e-04 - mae: 0.0084\n",
      "Epoch 30/30\n",
      "\u001b[1m1188/1188\u001b[0m \u001b[32m━━━━━━━━━━━━━━━━━━━━\u001b[0m\u001b[37m\u001b[0m \u001b[1m7s\u001b[0m 6ms/step - loss: 1.5671e-04 - mae: 0.0083\n"
     ]
    },
    {
     "ename": "KeyError",
     "evalue": "'val_loss'",
     "output_type": "error",
     "traceback": [
      "\u001b[1;31m---------------------------------------------------------------------------\u001b[0m",
      "\u001b[1;31mKeyError\u001b[0m                                  Traceback (most recent call last)",
      "Cell \u001b[1;32mIn[97], line 7\u001b[0m\n\u001b[0;32m      2\u001b[0m log \u001b[38;5;241m=\u001b[39m model\u001b[38;5;241m.\u001b[39mfit([x_train_encoder, x_train_decoder], y_train_encoder,\n\u001b[0;32m      3\u001b[0m                 epochs\u001b[38;5;241m=\u001b[39mepochs, \n\u001b[0;32m      4\u001b[0m                 callbacks\u001b[38;5;241m=\u001b[39m[early_stopping], shuffle\u001b[38;5;241m=\u001b[39m\u001b[38;5;28;01mFalse\u001b[39;00m)\n\u001b[0;32m      6\u001b[0m plt\u001b[38;5;241m.\u001b[39mplot(log\u001b[38;5;241m.\u001b[39mhistory[\u001b[38;5;124m'\u001b[39m\u001b[38;5;124mloss\u001b[39m\u001b[38;5;124m'\u001b[39m])\n\u001b[1;32m----> 7\u001b[0m plt\u001b[38;5;241m.\u001b[39mplot(\u001b[43mlog\u001b[49m\u001b[38;5;241;43m.\u001b[39;49m\u001b[43mhistory\u001b[49m\u001b[43m[\u001b[49m\u001b[38;5;124;43m'\u001b[39;49m\u001b[38;5;124;43mval_loss\u001b[39;49m\u001b[38;5;124;43m'\u001b[39;49m\u001b[43m]\u001b[49m)\n\u001b[0;32m      8\u001b[0m plt\u001b[38;5;241m.\u001b[39mtitle(\u001b[38;5;124m\"\u001b[39m\u001b[38;5;124mModel Loss\u001b[39m\u001b[38;5;124m\"\u001b[39m)\n\u001b[0;32m      9\u001b[0m plt\u001b[38;5;241m.\u001b[39mxlabel(\u001b[38;5;124m'\u001b[39m\u001b[38;5;124mEpochs\u001b[39m\u001b[38;5;124m'\u001b[39m)\n",
      "\u001b[1;31mKeyError\u001b[0m: 'val_loss'"
     ]
    },
    {
     "data": {
      "image/png": "[encoded data removed]",
      "text/plain": [
       "<Figure size 640x480 with 1 Axes>"
      ]
     },
     "metadata": {},
     "output_type": "display_data"
    }
   ],
   "source": [
    "\n",
    "epochs = 30\n",
    "log = model.fit([x_train_encoder, x_train_decoder], y_train_encoder,\n",
    "                epochs=epochs, \n",
    "                callbacks=[early_stopping], shuffle=False)\n",
    "\n",
    "plt.plot(log.history['loss'])\n",
    "plt.plot(log.history['val_loss'])\n",
    "plt.title(\"Model Loss\")\n",
    "plt.xlabel('Epochs')\n",
    "plt.ylabel('Loss')\n",
    "plt.legend(['Train', 'Validation'], loc='upper right')"
   ]
  },
  {
   "cell_type": "code",
   "execution_count": null,
   "metadata": {},
   "outputs": [],
   "source": []
  },
  {
   "cell_type": "code",
   "execution_count": 26,
   "metadata": {},
   "outputs": [
    {
     "name": "stdout",
     "output_type": "stream",
     "text": [
      "\u001b[1m254/254\u001b[0m \u001b[32m━━━━━━━━━━━━━━━━━━━━\u001b[0m\u001b[37m\u001b[0m \u001b[1m1s\u001b[0m 3ms/step\n"
     ]
    },
    {
     "ename": "InvalidArgumentError",
     "evalue": "{{function_node __wrapped__Sub_device_/job:localhost/replica:0/task:0/device:CPU:0}} Incompatible shapes: [8162,1] vs. [8115,48] [Op:Sub] name: ",
     "output_type": "error",
     "traceback": [
      "\u001b[1;31m---------------------------------------------------------------------------\u001b[0m",
      "\u001b[1;31mInvalidArgumentError\u001b[0m                      Traceback (most recent call last)",
      "Cell \u001b[1;32mIn[26], line 6\u001b[0m\n\u001b[0;32m      3\u001b[0m y_pred \u001b[38;5;241m=\u001b[39m model\u001b[38;5;241m.\u001b[39mpredict(test_gen)\n\u001b[0;32m      5\u001b[0m mae \u001b[38;5;241m=\u001b[39m keras\u001b[38;5;241m.\u001b[39mlosses\u001b[38;5;241m.\u001b[39mMeanAbsoluteError()\n\u001b[1;32m----> 6\u001b[0m \u001b[38;5;28mprint\u001b[39m(\u001b[43mmae\u001b[49m\u001b[43m(\u001b[49m\u001b[43my_test\u001b[49m\u001b[43m,\u001b[49m\u001b[43m \u001b[49m\u001b[43my_pred\u001b[49m\u001b[43m)\u001b[49m\u001b[38;5;241m.\u001b[39mnumpy())\n\u001b[0;32m      8\u001b[0m y_pred \u001b[38;5;241m=\u001b[39m target_scaler\u001b[38;5;241m.\u001b[39minverse_transform(y_pred)\n\u001b[0;32m      9\u001b[0m actuals \u001b[38;5;241m=\u001b[39m target_scaler\u001b[38;5;241m.\u001b[39minverse_transform(y_test)\n",
      "File \u001b[1;32mc:\\Users\\drami\\AppData\\Local\\Programs\\Python\\Python310\\lib\\site-packages\\keras\\src\\losses\\loss.py:43\u001b[0m, in \u001b[0;36mLoss.__call__\u001b[1;34m(self, y_true, y_pred, sample_weight)\u001b[0m\n\u001b[0;32m     36\u001b[0m y_pred \u001b[38;5;241m=\u001b[39m tree\u001b[38;5;241m.\u001b[39mmap_structure(\n\u001b[0;32m     37\u001b[0m     \u001b[38;5;28;01mlambda\u001b[39;00m x: ops\u001b[38;5;241m.\u001b[39mconvert_to_tensor(x, dtype\u001b[38;5;241m=\u001b[39m\u001b[38;5;28mself\u001b[39m\u001b[38;5;241m.\u001b[39mdtype), y_pred\n\u001b[0;32m     38\u001b[0m )\n\u001b[0;32m     39\u001b[0m y_true \u001b[38;5;241m=\u001b[39m tree\u001b[38;5;241m.\u001b[39mmap_structure(\n\u001b[0;32m     40\u001b[0m     \u001b[38;5;28;01mlambda\u001b[39;00m x: ops\u001b[38;5;241m.\u001b[39mconvert_to_tensor(x, dtype\u001b[38;5;241m=\u001b[39m\u001b[38;5;28mself\u001b[39m\u001b[38;5;241m.\u001b[39mdtype), y_true\n\u001b[0;32m     41\u001b[0m )\n\u001b[1;32m---> 43\u001b[0m losses \u001b[38;5;241m=\u001b[39m \u001b[38;5;28;43mself\u001b[39;49m\u001b[38;5;241;43m.\u001b[39;49m\u001b[43mcall\u001b[49m\u001b[43m(\u001b[49m\u001b[43my_true\u001b[49m\u001b[43m,\u001b[49m\u001b[43m \u001b[49m\u001b[43my_pred\u001b[49m\u001b[43m)\u001b[49m\n\u001b[0;32m     44\u001b[0m out_mask \u001b[38;5;241m=\u001b[39m \u001b[38;5;28mgetattr\u001b[39m(losses, \u001b[38;5;124m\"\u001b[39m\u001b[38;5;124m_keras_mask\u001b[39m\u001b[38;5;124m\"\u001b[39m, \u001b[38;5;28;01mNone\u001b[39;00m)\n\u001b[0;32m     46\u001b[0m \u001b[38;5;28;01mif\u001b[39;00m in_mask \u001b[38;5;129;01mis\u001b[39;00m \u001b[38;5;129;01mnot\u001b[39;00m \u001b[38;5;28;01mNone\u001b[39;00m \u001b[38;5;129;01mand\u001b[39;00m out_mask \u001b[38;5;129;01mis\u001b[39;00m \u001b[38;5;129;01mnot\u001b[39;00m \u001b[38;5;28;01mNone\u001b[39;00m:\n",
      "File \u001b[1;32mc:\\Users\\drami\\AppData\\Local\\Programs\\Python\\Python310\\lib\\site-packages\\keras\\src\\losses\\losses.py:22\u001b[0m, in \u001b[0;36mLossFunctionWrapper.call\u001b[1;34m(self, y_true, y_pred)\u001b[0m\n\u001b[0;32m     20\u001b[0m \u001b[38;5;28;01mdef\u001b[39;00m \u001b[38;5;21mcall\u001b[39m(\u001b[38;5;28mself\u001b[39m, y_true, y_pred):\n\u001b[0;32m     21\u001b[0m     y_true, y_pred \u001b[38;5;241m=\u001b[39m squeeze_or_expand_to_same_rank(y_true, y_pred)\n\u001b[1;32m---> 22\u001b[0m     \u001b[38;5;28;01mreturn\u001b[39;00m \u001b[38;5;28mself\u001b[39m\u001b[38;5;241m.\u001b[39mfn(y_true, y_pred, \u001b[38;5;241m*\u001b[39m\u001b[38;5;241m*\u001b[39m\u001b[38;5;28mself\u001b[39m\u001b[38;5;241m.\u001b[39m_fn_kwargs)\n",
      "File \u001b[1;32mc:\\Users\\drami\\AppData\\Local\\Programs\\Python\\Python310\\lib\\site-packages\\keras\\src\\losses\\losses.py:1191\u001b[0m, in \u001b[0;36mmean_absolute_error\u001b[1;34m(y_true, y_pred)\u001b[0m\n\u001b[0;32m   1189\u001b[0m y_true \u001b[38;5;241m=\u001b[39m ops\u001b[38;5;241m.\u001b[39mconvert_to_tensor(y_true, dtype\u001b[38;5;241m=\u001b[39my_pred\u001b[38;5;241m.\u001b[39mdtype)\n\u001b[0;32m   1190\u001b[0m y_true, y_pred \u001b[38;5;241m=\u001b[39m squeeze_or_expand_to_same_rank(y_true, y_pred)\n\u001b[1;32m-> 1191\u001b[0m \u001b[38;5;28;01mreturn\u001b[39;00m ops\u001b[38;5;241m.\u001b[39mmean(ops\u001b[38;5;241m.\u001b[39mabs(\u001b[43my_true\u001b[49m\u001b[43m \u001b[49m\u001b[38;5;241;43m-\u001b[39;49m\u001b[43m \u001b[49m\u001b[43my_pred\u001b[49m), axis\u001b[38;5;241m=\u001b[39m\u001b[38;5;241m-\u001b[39m\u001b[38;5;241m1\u001b[39m)\n",
      "File \u001b[1;32m~\\AppData\\Roaming\\Python\\Python310\\site-packages\\tensorflow\\python\\util\\traceback_utils.py:153\u001b[0m, in \u001b[0;36mfilter_traceback.<locals>.error_handler\u001b[1;34m(*args, **kwargs)\u001b[0m\n\u001b[0;32m    151\u001b[0m \u001b[38;5;28;01mexcept\u001b[39;00m \u001b[38;5;167;01mException\u001b[39;00m \u001b[38;5;28;01mas\u001b[39;00m e:\n\u001b[0;32m    152\u001b[0m   filtered_tb \u001b[38;5;241m=\u001b[39m _process_traceback_frames(e\u001b[38;5;241m.\u001b[39m__traceback__)\n\u001b[1;32m--> 153\u001b[0m   \u001b[38;5;28;01mraise\u001b[39;00m e\u001b[38;5;241m.\u001b[39mwith_traceback(filtered_tb) \u001b[38;5;28;01mfrom\u001b[39;00m \u001b[38;5;28;01mNone\u001b[39;00m\n\u001b[0;32m    154\u001b[0m \u001b[38;5;28;01mfinally\u001b[39;00m:\n\u001b[0;32m    155\u001b[0m   \u001b[38;5;28;01mdel\u001b[39;00m filtered_tb\n",
      "File \u001b[1;32m~\\AppData\\Roaming\\Python\\Python310\\site-packages\\tensorflow\\python\\framework\\ops.py:5883\u001b[0m, in \u001b[0;36mraise_from_not_ok_status\u001b[1;34m(e, name)\u001b[0m\n\u001b[0;32m   5881\u001b[0m \u001b[38;5;28;01mdef\u001b[39;00m \u001b[38;5;21mraise_from_not_ok_status\u001b[39m(e, name) \u001b[38;5;241m-\u001b[39m\u001b[38;5;241m>\u001b[39m NoReturn:\n\u001b[0;32m   5882\u001b[0m   e\u001b[38;5;241m.\u001b[39mmessage \u001b[38;5;241m+\u001b[39m\u001b[38;5;241m=\u001b[39m (\u001b[38;5;124m\"\u001b[39m\u001b[38;5;124m name: \u001b[39m\u001b[38;5;124m\"\u001b[39m \u001b[38;5;241m+\u001b[39m \u001b[38;5;28mstr\u001b[39m(name \u001b[38;5;28;01mif\u001b[39;00m name \u001b[38;5;129;01mis\u001b[39;00m \u001b[38;5;129;01mnot\u001b[39;00m \u001b[38;5;28;01mNone\u001b[39;00m \u001b[38;5;28;01melse\u001b[39;00m \u001b[38;5;124m\"\u001b[39m\u001b[38;5;124m\"\u001b[39m))\n\u001b[1;32m-> 5883\u001b[0m   \u001b[38;5;28;01mraise\u001b[39;00m core\u001b[38;5;241m.\u001b[39m_status_to_exception(e) \u001b[38;5;28;01mfrom\u001b[39;00m \u001b[38;5;28;01mNone\u001b[39;00m\n",
      "\u001b[1;31mInvalidArgumentError\u001b[0m: {{function_node __wrapped__Sub_device_/job:localhost/replica:0/task:0/device:CPU:0}} Incompatible shapes: [8162,1] vs. [8115,48] [Op:Sub] name: "
     ]
    }
   ],
   "source": [
    "x, y = next(test_gen.as_numpy_iterator())\n",
    "\n",
    "y_pred = model.predict(test_gen)\n",
    "\n",
    "mae = keras.losses.MeanAbsoluteError()\n",
    "print(mae(y_test, y_pred).numpy())\n",
    "\n",
    "y_pred = target_scaler.inverse_transform(y_pred)\n",
    "actuals = target_scaler.inverse_transform(y_test)\n",
    "\n",
    "plt.figure(figsize=(17, 6))\n",
    "plt.plot(y_pred, label='Predictions', linestyle='--')\n",
    "plt.plot(actuals, label='Actuals', alpha=0.7)\n",
    "# plt.plot(target.values[(validation_split+25):(test_split)], label='Validation', alpha=0.7)\n",
    "plt.legend()\n",
    "plt.show()"
   ]
  },
  {
   "cell_type": "code",
   "execution_count": 40,
   "metadata": {},
   "outputs": [
    {
     "name": "stdout",
     "output_type": "stream",
     "text": [
      "                     spotPrice\n",
      "Date                          \n",
      "2023-04-04 07:00:00    1971.73\n",
      "[0.28925384]\n",
      "[0.34394904]\n",
      "0     0.353503\n",
      "1     0.237349\n",
      "2     0.583266\n",
      "3     0.646018\n",
      "4     0.807755\n",
      "5     0.223207\n",
      "6     0.485678\n",
      "7     0.803015\n",
      "8     0.157525\n",
      "9     0.085584\n",
      "10    0.773531\n",
      "11    0.000170\n",
      "12    0.669458\n",
      "13    0.095476\n",
      "14    0.624388\n",
      "15    0.053192\n",
      "16    0.550211\n",
      "17    0.039220\n",
      "18    0.945562\n",
      "19    0.076985\n",
      "20    0.120641\n",
      "21    0.353731\n",
      "22    0.001618\n",
      "23    0.375676\n",
      "24    0.000000\n",
      "25    0.020249\n",
      "26    0.166578\n",
      "0     0.833333\n",
      "1     0.272727\n",
      "2     0.166667\n",
      "3     0.000000\n",
      "4     0.304348\n",
      "5     0.400000\n",
      "6     0.600000\n",
      "7     0.600000\n",
      "0     0.289254\n",
      "Name: 0, dtype: float64\n"
     ]
    }
   ],
   "source": [
    "print(target.iloc[validation_split:test_split].head(1))\n",
    "print(target_scaled[validation_split:test_split][0])\n",
    "print(Y_test[0])\n",
    "\n",
    "print(test_df.iloc[0])"
   ]
  }
 ],
 "metadata": {
  "kernelspec": {
   "display_name": "Python 3",
   "language": "python",
   "name": "python3"
  },
  "language_info": {
   "codemirror_mode": {
    "name": "ipython",
    "version": 3
   },
   "file_extension": ".py",
   "mimetype": "text/x-python",
   "name": "python",
   "nbconvert_exporter": "python",
   "pygments_lexer": "ipython3",
   "version": "3.10.11"
  }
 },
 "nbformat": 4,
 "nbformat_minor": 2
}
